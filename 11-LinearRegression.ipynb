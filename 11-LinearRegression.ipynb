{
 "cells": [
  {
   "cell_type": "code",
   "execution_count": 1,
   "metadata": {},
   "outputs": [],
   "source": [
    "import torch\n",
    "from sklearn.datasets import make_classification\n",
    "from sklearn.model_selection import train_test_split"
   ]
  },
  {
   "cell_type": "code",
   "execution_count": null,
   "metadata": {},
   "outputs": [],
   "source": []
  },
  {
   "cell_type": "code",
   "execution_count": 2,
   "metadata": {},
   "outputs": [],
   "source": [
    "class CustomDataset:\n",
    "    def __init__(self, data, targets):\n",
    "        self.data = data\n",
    "        self.targets = targets\n",
    "        \n",
    "    def __len__(self):\n",
    "#         return len(self.data)\n",
    "        return self.data.shape[0]\n",
    "    \n",
    "    def __getitem__(self, idx):\n",
    "        current_sample = self.data[idx,:]\n",
    "        current_target = self.targets[idx]\n",
    "        \n",
    "        return {\n",
    "            \"X\":torch.tensor(current_sample,dtype=torch.float),\n",
    "            \"y\":torch.tensor(current_target,dtype=torch.long)\n",
    "        }"
   ]
  },
  {
   "cell_type": "code",
   "execution_count": null,
   "metadata": {},
   "outputs": [],
   "source": []
  },
  {
   "cell_type": "code",
   "execution_count": 3,
   "metadata": {},
   "outputs": [
    {
     "data": {
      "text/plain": [
       "((1000, 20), (1000,))"
      ]
     },
     "execution_count": 3,
     "metadata": {},
     "output_type": "execute_result"
    }
   ],
   "source": [
    "data, targets = make_classification(n_samples=1000,n_features=20)\n",
    "data.shape, targets.shape"
   ]
  },
  {
   "cell_type": "code",
   "execution_count": 4,
   "metadata": {},
   "outputs": [
    {
     "data": {
      "text/plain": [
       "((750, 20), (250, 20), (750,), (250,))"
      ]
     },
     "execution_count": 4,
     "metadata": {},
     "output_type": "execute_result"
    }
   ],
   "source": [
    "train_data, test_data, train_targets, test_targets = train_test_split(data, targets, \n",
    "                                                                      stratify=targets)\n",
    "\n",
    "train_data.shape, test_data.shape, train_targets.shape, test_targets.shape"
   ]
  },
  {
   "cell_type": "code",
   "execution_count": 5,
   "metadata": {},
   "outputs": [],
   "source": [
    "train_dataset = CustomDataset(train_data, train_targets)\n",
    "test_dataset = CustomDataset(test_data, test_targets)"
   ]
  },
  {
   "cell_type": "code",
   "execution_count": 6,
   "metadata": {},
   "outputs": [],
   "source": [
    "train_loader = torch.utils.data.DataLoader(train_dataset, batch_size = 4)\n",
    "test_loader = torch.utils.data.DataLoader(test_dataset, batch_size = 4)"
   ]
  },
  {
   "cell_type": "code",
   "execution_count": null,
   "metadata": {},
   "outputs": [],
   "source": []
  },
  {
   "cell_type": "code",
   "execution_count": 7,
   "metadata": {},
   "outputs": [
    {
     "name": "stdout",
     "output_type": "stream",
     "text": [
      "0 2965.2802092134953\n",
      "1 1326.1475982517004\n",
      "2 608.2997039332986\n",
      "3 287.3766477704048\n",
      "4 141.6711309477687\n",
      "5 74.69452685117722\n",
      "6 43.58725811447948\n",
      "7 29.010142277926207\n",
      "8 22.125474486500025\n",
      "9 18.851231292821467\n"
     ]
    }
   ],
   "source": [
    "model = lambda X,w, b: torch.matmul(X,w) + b\n",
    "\n",
    "W = torch.randn(20,1,requires_grad = True)\n",
    "b = torch.randn(1,requires_grad = True)\n",
    "lr = 0.001\n",
    "\n",
    "for epoch in range(10):\n",
    "    epoch_loss = 0\n",
    "    for data in train_loader:\n",
    "        Xtrain = data[\"X\"]\n",
    "        ytrain = data[\"y\"]\n",
    "        output =model(Xtrain, W, b)\n",
    "        loss = torch.mean((ytrain.view(-1) - output.view(-1)) ** 2)\n",
    "        epoch_loss = epoch_loss + loss.item()\n",
    "        loss.backward()\n",
    "        \n",
    "        with torch.no_grad():\n",
    "            W = W - lr * W.grad\n",
    "            b = b - lr * b.grad\n",
    "\n",
    "        W.requires_grad_(True)\n",
    "        b.requires_grad_(True)\n",
    "    \n",
    "    print(epoch, epoch_loss)\n"
   ]
  },
  {
   "cell_type": "code",
   "execution_count": 8,
   "metadata": {},
   "outputs": [
    {
     "data": {
      "text/plain": [
       "tensor([[ 3.0915e-01],\n",
       "        [-4.6074e-02],\n",
       "        [ 4.7939e-01],\n",
       "        [ 1.6520e-02],\n",
       "        [-2.7638e-02],\n",
       "        [-1.2814e-02],\n",
       "        [ 1.8373e-02],\n",
       "        [ 5.3599e-04],\n",
       "        [-7.9022e-02],\n",
       "        [ 7.2775e-01],\n",
       "        [-2.0067e-02],\n",
       "        [ 1.2091e-02],\n",
       "        [ 3.4097e-04],\n",
       "        [-1.5181e-02],\n",
       "        [ 2.1342e-02],\n",
       "        [ 1.9373e-02],\n",
       "        [-8.5924e-03],\n",
       "        [ 1.4762e-02],\n",
       "        [ 4.1755e-03],\n",
       "        [ 5.8388e-02]], requires_grad=True)"
      ]
     },
     "execution_count": 8,
     "metadata": {},
     "output_type": "execute_result"
    }
   ],
   "source": [
    "W"
   ]
  },
  {
   "cell_type": "code",
   "execution_count": 9,
   "metadata": {},
   "outputs": [
    {
     "data": {
      "text/plain": [
       "tensor([0.4937], requires_grad=True)"
      ]
     },
     "execution_count": 9,
     "metadata": {},
     "output_type": "execute_result"
    }
   ],
   "source": [
    "b "
   ]
  },
  {
   "cell_type": "code",
   "execution_count": 10,
   "metadata": {},
   "outputs": [
    {
     "name": "stdout",
     "output_type": "stream",
     "text": [
      "0 18.555957279623822\n",
      "1 7.192025109332927\n",
      "2 3.085310296571635\n",
      "3 1.406049266764696\n",
      "4 0.6820844102829219\n",
      "5 0.36019729591281885\n",
      "6 0.21376526858496597\n",
      "7 0.14588311865697912\n",
      "8 0.11390649113417702\n",
      "9 0.09863616301222368\n"
     ]
    }
   ],
   "source": [
    "model = lambda X,w, b: torch.matmul(X,w) + b\n",
    "\n",
    "W = torch.randn(20,1,requires_grad = True)\n",
    "b = torch.randn(1,requires_grad = True)\n",
    "lr = 0.001\n",
    "\n",
    "for epoch in range(10):\n",
    "    epoch_loss = 0\n",
    "    counter = 0\n",
    "    for data in train_loader:\n",
    "        Xtrain = data[\"X\"]\n",
    "        ytrain = data[\"y\"]\n",
    "        output =model(Xtrain, W, b)\n",
    "        loss = torch.mean((ytrain.view(-1) - output.view(-1)) ** 2)\n",
    "        epoch_loss = epoch_loss + loss.item()\n",
    "        loss.backward()\n",
    "        \n",
    "        with torch.no_grad():\n",
    "            W = W - lr * W.grad\n",
    "            b = b - lr * b.grad\n",
    "\n",
    "        W.requires_grad_(True)\n",
    "        b.requires_grad_(True)\n",
    "        counter += 1\n",
    "    \n",
    "    print(epoch, epoch_loss/counter)\n"
   ]
  },
  {
   "cell_type": "code",
   "execution_count": null,
   "metadata": {},
   "outputs": [],
   "source": []
  },
  {
   "cell_type": "code",
   "execution_count": null,
   "metadata": {},
   "outputs": [],
   "source": []
  }
 ],
 "metadata": {
  "kernelspec": {
   "display_name": "Python 3",
   "language": "python",
   "name": "python3"
  },
  "language_info": {
   "codemirror_mode": {
    "name": "ipython",
    "version": 3
   },
   "file_extension": ".py",
   "mimetype": "text/x-python",
   "name": "python",
   "nbconvert_exporter": "python",
   "pygments_lexer": "ipython3",
   "version": "3.8.5"
  }
 },
 "nbformat": 4,
 "nbformat_minor": 4
}
