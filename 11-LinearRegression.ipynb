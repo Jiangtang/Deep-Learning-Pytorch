{
 "cells": [
  {
   "cell_type": "code",
   "execution_count": 1,
   "metadata": {},
   "outputs": [],
   "source": [
    "import torch\n",
    "from sklearn.datasets import make_classification\n",
    "from sklearn.model_selection import train_test_split"
   ]
  },
  {
   "cell_type": "code",
   "execution_count": null,
   "metadata": {},
   "outputs": [],
   "source": []
  },
  {
   "cell_type": "code",
   "execution_count": 2,
   "metadata": {},
   "outputs": [],
   "source": [
    "class CustomDataset:\n",
    "    def __init__(self, data, targets):\n",
    "        self.data = data\n",
    "        self.targets = targets\n",
    "        \n",
    "    def __len__(self):\n",
    "#         return len(self.data)\n",
    "        return self.data.shape[0]\n",
    "    \n",
    "    def __getitem__(self, idx):\n",
    "        current_sample = self.data[idx,:]\n",
    "        current_target = self.targets[idx]\n",
    "        \n",
    "        return {\n",
    "            \"X\":torch.tensor(current_sample,dtype=torch.float),\n",
    "            \"y\":torch.tensor(current_target,dtype=torch.long)\n",
    "        }"
   ]
  },
  {
   "cell_type": "code",
   "execution_count": null,
   "metadata": {},
   "outputs": [],
   "source": []
  },
  {
   "cell_type": "code",
   "execution_count": 3,
   "metadata": {},
   "outputs": [
    {
     "data": {
      "text/plain": [
       "((1000, 20), (1000,))"
      ]
     },
     "execution_count": 3,
     "metadata": {},
     "output_type": "execute_result"
    }
   ],
   "source": [
    "data, targets = make_classification(n_samples=1000,n_features=20)\n",
    "data.shape, targets.shape"
   ]
  },
  {
   "cell_type": "code",
   "execution_count": 4,
   "metadata": {},
   "outputs": [
    {
     "data": {
      "text/plain": [
       "((750, 20), (250, 20), (750,), (250,))"
      ]
     },
     "execution_count": 4,
     "metadata": {},
     "output_type": "execute_result"
    }
   ],
   "source": [
    "train_data, test_data, train_targets, test_targets = train_test_split(data, targets, \n",
    "                                                                      stratify=targets)\n",
    "\n",
    "train_data.shape, test_data.shape, train_targets.shape, test_targets.shape"
   ]
  },
  {
   "cell_type": "code",
   "execution_count": 5,
   "metadata": {},
   "outputs": [],
   "source": [
    "train_dataset = CustomDataset(train_data, train_targets)\n",
    "test_dataset = CustomDataset(test_data, test_targets)"
   ]
  },
  {
   "cell_type": "code",
   "execution_count": 6,
   "metadata": {},
   "outputs": [],
   "source": [
    "train_loader = torch.utils.data.DataLoader(train_dataset, batch_size = 4)\n",
    "test_loader = torch.utils.data.DataLoader(test_dataset, batch_size = 4)"
   ]
  },
  {
   "cell_type": "code",
   "execution_count": null,
   "metadata": {},
   "outputs": [],
   "source": []
  },
  {
   "cell_type": "code",
   "execution_count": 7,
   "metadata": {},
   "outputs": [
    {
     "name": "stdout",
     "output_type": "stream",
     "text": [
      "0 1708.6390960812569\n",
      "1 684.7209814488888\n",
      "2 308.720470815897\n",
      "3 155.17274264991283\n",
      "4 86.80632527731359\n",
      "5 54.35724734328687\n",
      "6 38.23926241789013\n",
      "7 29.967598326969892\n",
      "8 25.6182079045102\n",
      "9 23.287381122121587\n"
     ]
    }
   ],
   "source": [
    "model = lambda X,w, b: torch.matmul(X,w) + b\n",
    "\n",
    "W = torch.randn(20,1,requires_grad = True)\n",
    "b = torch.randn(1,requires_grad = True)\n",
    "lr = 0.001\n",
    "\n",
    "for epoch in range(10):\n",
    "    epoch_loss = 0\n",
    "    for data in train_loader:\n",
    "        Xtrain = data[\"X\"]\n",
    "        ytrain = data[\"y\"]\n",
    "        output =model(Xtrain, W, b)\n",
    "        loss = torch.mean((ytrain.view(-1) - output.view(-1)) ** 2)\n",
    "        epoch_loss = epoch_loss + loss.item()\n",
    "        loss.backward()\n",
    "        \n",
    "        with torch.no_grad():\n",
    "            W = W - lr * W.grad\n",
    "            b = b - lr * b.grad\n",
    "\n",
    "        W.requires_grad_(True)\n",
    "        b.requires_grad_(True)\n",
    "    \n",
    "    print(epoch, epoch_loss)\n"
   ]
  },
  {
   "cell_type": "code",
   "execution_count": 8,
   "metadata": {},
   "outputs": [
    {
     "data": {
      "text/plain": [
       "tensor([[ 0.0208],\n",
       "        [ 0.0088],\n",
       "        [-0.5636],\n",
       "        [ 0.0054],\n",
       "        [-0.0761],\n",
       "        [-0.0235],\n",
       "        [-0.0410],\n",
       "        [ 0.0395],\n",
       "        [-0.0009],\n",
       "        [ 0.0688],\n",
       "        [ 0.0054],\n",
       "        [-0.0169],\n",
       "        [-0.8512],\n",
       "        [-0.0476],\n",
       "        [-0.2553],\n",
       "        [-0.0291],\n",
       "        [ 0.0118],\n",
       "        [-0.0279],\n",
       "        [ 0.0135],\n",
       "        [-0.0279]], requires_grad=True)"
      ]
     },
     "execution_count": 8,
     "metadata": {},
     "output_type": "execute_result"
    }
   ],
   "source": [
    "W"
   ]
  },
  {
   "cell_type": "code",
   "execution_count": 9,
   "metadata": {},
   "outputs": [
    {
     "data": {
      "text/plain": [
       "tensor([0.4466], requires_grad=True)"
      ]
     },
     "execution_count": 9,
     "metadata": {},
     "output_type": "execute_result"
    }
   ],
   "source": [
    "b "
   ]
  },
  {
   "cell_type": "code",
   "execution_count": 10,
   "metadata": {},
   "outputs": [
    {
     "name": "stdout",
     "output_type": "stream",
     "text": [
      "0 9.40910047752426\n",
      "1 4.461265639976618\n",
      "2 2.173153309825253\n",
      "3 1.1001550072526678\n",
      "4 0.590424068519806\n",
      "5 0.34533210010565024\n",
      "6 0.22614342223684442\n",
      "7 0.16755871699895075\n",
      "8 0.13846698890568965\n",
      "9 0.12387634298090447\n"
     ]
    }
   ],
   "source": [
    "model = lambda X,w, b: torch.matmul(X,w) + b\n",
    "\n",
    "W = torch.randn(20,1,requires_grad = True)\n",
    "b = torch.randn(1,requires_grad = True)\n",
    "lr = 0.001\n",
    "\n",
    "for epoch in range(10):\n",
    "    epoch_loss = 0\n",
    "    counter = 0\n",
    "    for data in train_loader:\n",
    "        Xtrain = data[\"X\"]\n",
    "        ytrain = data[\"y\"]\n",
    "        output =model(Xtrain, W, b)\n",
    "        loss = torch.mean((ytrain.view(-1) - output.view(-1)) ** 2)\n",
    "        epoch_loss = epoch_loss + loss.item()\n",
    "        loss.backward()\n",
    "        \n",
    "        with torch.no_grad():\n",
    "            W = W - lr * W.grad\n",
    "            b = b - lr * b.grad\n",
    "\n",
    "        W.requires_grad_(True)\n",
    "        b.requires_grad_(True)\n",
    "        counter += 1\n",
    "    \n",
    "    print(epoch, epoch_loss/counter)\n"
   ]
  },
  {
   "cell_type": "code",
   "execution_count": null,
   "metadata": {},
   "outputs": [],
   "source": []
  },
  {
   "cell_type": "code",
   "execution_count": 11,
   "metadata": {},
   "outputs": [
    {
     "data": {
      "text/plain": [
       "torch.Size([1, 20])"
      ]
     },
     "execution_count": 11,
     "metadata": {},
     "output_type": "execute_result"
    }
   ],
   "source": [
    "fc_layer = torch.nn.Linear(in_features=20, out_features=1)\n",
    "fc_layer.weight.shape"
   ]
  },
  {
   "cell_type": "code",
   "execution_count": 13,
   "metadata": {},
   "outputs": [
    {
     "data": {
      "text/plain": [
       "Parameter containing:\n",
       "tensor([-0.0920], requires_grad=True)"
      ]
     },
     "execution_count": 13,
     "metadata": {},
     "output_type": "execute_result"
    }
   ],
   "source": [
    "fc_layer.bias"
   ]
  },
  {
   "cell_type": "code",
   "execution_count": null,
   "metadata": {},
   "outputs": [],
   "source": []
  },
  {
   "cell_type": "code",
   "execution_count": null,
   "metadata": {},
   "outputs": [],
   "source": []
  }
 ],
 "metadata": {
  "kernelspec": {
   "display_name": "Python 3",
   "language": "python",
   "name": "python3"
  },
  "language_info": {
   "codemirror_mode": {
    "name": "ipython",
    "version": 3
   },
   "file_extension": ".py",
   "mimetype": "text/x-python",
   "name": "python",
   "nbconvert_exporter": "python",
   "pygments_lexer": "ipython3",
   "version": "3.8.5"
  }
 },
 "nbformat": 4,
 "nbformat_minor": 4
}
