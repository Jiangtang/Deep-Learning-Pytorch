{
 "cells": [
  {
   "cell_type": "markdown",
   "metadata": {},
   "source": [
    "# Building Models in PyTorch\n",
    "\n",
    "\n",
    "## `torch.nn.Module` and `torch.nn.Parameter`\n",
    "\n",
    "In this video, we'll be discussing some of the tools PyTorch makes available for building deep learning networks.\n",
    "\n",
    "Except for `Parameter`, the classes we discuss in this video are all subclasses of `torch.nn.Module`. This is the PyTorch base class meant to encapsulate behaviors specific to PyTorch Models and their components.\n",
    "\n",
    "One important behavior of `torch.nn.Module` is registering parameters. If a particular `Module` subclass has learning weights, these weights are expressed as instances of `torch.nn.Parameter`. The `Parameter` class is a subclass of `torch.Tensor`, with the special behavior that when they are assigned as attributes of a `Module`, they are added to the list of that modules parameters. These parameters may be accessed through the `parameters()` method on the `Module` class.\n",
    "\n",
    "As a simple example, here's a very simple model with two linear layers and an activation function. We'll create an instance of it and ask it to report on its parameters:"
   ]
  },
  {
   "cell_type": "code",
   "execution_count": 1,
   "metadata": {},
   "outputs": [
    {
     "name": "stdout",
     "output_type": "stream",
     "text": [
      "The model:\n",
      "TinyModel(\n",
      "  (linear1): Linear(in_features=100, out_features=200, bias=True)\n",
      "  (activation): ReLU()\n",
      "  (linear2): Linear(in_features=200, out_features=10, bias=True)\n",
      "  (softmax): Softmax(dim=None)\n",
      ")\n",
      "\n",
      "\n",
      "Just one layer:\n",
      "Linear(in_features=200, out_features=10, bias=True)\n",
      "\n",
      "\n",
      "Model params:\n",
      "Parameter containing:\n",
      "tensor([[ 0.0661, -0.0754, -0.0135,  ..., -0.0123,  0.0318,  0.0844],\n",
      "        [-0.0670,  0.0339, -0.0773,  ...,  0.0715, -0.0795,  0.0360],\n",
      "        [-0.0130, -0.0880,  0.0989,  ...,  0.0567, -0.0584,  0.0629],\n",
      "        ...,\n",
      "        [-0.0514, -0.0254,  0.0827,  ..., -0.0900, -0.0613, -0.0559],\n",
      "        [-0.0339,  0.0482, -0.0470,  ...,  0.0361, -0.0672,  0.0261],\n",
      "        [ 0.0310, -0.0875, -0.0079,  ..., -0.0580, -0.0643,  0.0301]],\n",
      "       requires_grad=True)\n",
      "Parameter containing:\n",
      "tensor([-0.0576,  0.0070, -0.0276, -0.0625, -0.0599, -0.0949, -0.0320, -0.0263,\n",
      "         0.0459, -0.0402, -0.0909, -0.0077,  0.0287,  0.0676, -0.0491, -0.0025,\n",
      "        -0.0964, -0.0885,  0.0021,  0.0326, -0.0875,  0.0566,  0.0978, -0.0637,\n",
      "         0.0191,  0.0062,  0.0136, -0.0604,  0.0353, -0.0374,  0.0382, -0.0794,\n",
      "         0.0802,  0.0462, -0.0227,  0.0085, -0.0599,  0.0592,  0.0325,  0.0640,\n",
      "        -0.0386, -0.0993,  0.0807,  0.0059, -0.0306, -0.0747,  0.0140,  0.0304,\n",
      "        -0.0833, -0.0988,  0.0107,  0.0667, -0.0528, -0.0296,  0.0871,  0.0197,\n",
      "        -0.0241, -0.0670, -0.0827,  0.0042, -0.0437,  0.0105,  0.0105, -0.0078,\n",
      "         0.0727, -0.0519, -0.0235,  0.0076, -0.0664, -0.0090, -0.0789,  0.0531,\n",
      "         0.0485,  0.0305, -0.0795, -0.0551, -0.0504,  0.0009,  0.0317,  0.0380,\n",
      "        -0.0839,  0.0261,  0.0167, -0.0102, -0.0708, -0.0076,  0.0780, -0.0516,\n",
      "         0.0796,  0.0907, -0.0296,  0.0747, -0.0090,  0.0110,  0.0942, -0.0432,\n",
      "        -0.0534,  0.0593, -0.0147,  0.0522, -0.0638,  0.0089,  0.0886,  0.0071,\n",
      "        -0.0077, -0.0385, -0.0159, -0.0827,  0.0787, -0.0259, -0.0090,  0.0783,\n",
      "        -0.0321,  0.0312, -0.0989, -0.0693, -0.0771, -0.0563, -0.0674, -0.0943,\n",
      "        -0.0644,  0.0441,  0.0645, -0.0497, -0.0696,  0.0726, -0.0600, -0.0620,\n",
      "         0.0890, -0.0336, -0.0871,  0.0769,  0.0659, -0.0707,  0.0409, -0.0447,\n",
      "        -0.0419, -0.0403, -0.0710, -0.0400, -0.0623, -0.0883, -0.0389, -0.0166,\n",
      "        -0.0118,  0.0068, -0.0725,  0.0103, -0.0093,  0.0274,  0.0897, -0.0808,\n",
      "         0.0409,  0.0682, -0.0645,  0.0368,  0.0554, -0.0124, -0.0231,  0.0083,\n",
      "         0.0238,  0.0972,  0.0219,  0.0594, -0.0060,  0.0246,  0.0499,  0.0304,\n",
      "         0.0881, -0.0804,  0.0677, -0.0096, -0.0797, -0.0887, -0.0767,  0.0693,\n",
      "         0.0277, -0.0493, -0.0109,  0.0177,  0.0973, -0.0604,  0.0155, -0.0148,\n",
      "         0.0377,  0.0975,  0.0561, -0.0865,  0.0131,  0.0400, -0.0169, -0.0588,\n",
      "         0.0049, -0.0400,  0.0871,  0.0674, -0.0024,  0.0474,  0.0251, -0.0213],\n",
      "       requires_grad=True)\n",
      "Parameter containing:\n",
      "tensor([[ 4.5024e-02,  7.0582e-02, -4.2672e-02,  ..., -2.1047e-02,\n",
      "         -4.4011e-05,  6.9035e-02],\n",
      "        [-4.7338e-02, -3.0503e-03,  9.0743e-03,  ...,  4.7331e-02,\n",
      "         -5.6127e-02,  2.1238e-02],\n",
      "        [-2.3129e-02, -2.8409e-02,  5.9038e-02,  ..., -4.1932e-02,\n",
      "          6.9542e-02,  2.0595e-02],\n",
      "        ...,\n",
      "        [ 2.9667e-02,  1.4108e-02, -1.5334e-02,  ..., -6.3327e-02,\n",
      "         -3.5785e-02, -6.4266e-02],\n",
      "        [-4.6399e-02,  2.2853e-02,  3.0489e-02,  ...,  3.6848e-02,\n",
      "          6.9362e-02,  2.3431e-02],\n",
      "        [-3.1696e-02,  1.5885e-04,  1.2145e-02,  ..., -2.5044e-02,\n",
      "          3.2436e-03, -5.6370e-02]], requires_grad=True)\n",
      "Parameter containing:\n",
      "tensor([ 0.0597, -0.0586, -0.0385,  0.0306,  0.0633,  0.0694, -0.0414, -0.0646,\n",
      "         0.0224,  0.0242], requires_grad=True)\n",
      "\n",
      "\n",
      "Layer params:\n",
      "Parameter containing:\n",
      "tensor([[ 4.5024e-02,  7.0582e-02, -4.2672e-02,  ..., -2.1047e-02,\n",
      "         -4.4011e-05,  6.9035e-02],\n",
      "        [-4.7338e-02, -3.0503e-03,  9.0743e-03,  ...,  4.7331e-02,\n",
      "         -5.6127e-02,  2.1238e-02],\n",
      "        [-2.3129e-02, -2.8409e-02,  5.9038e-02,  ..., -4.1932e-02,\n",
      "          6.9542e-02,  2.0595e-02],\n",
      "        ...,\n",
      "        [ 2.9667e-02,  1.4108e-02, -1.5334e-02,  ..., -6.3327e-02,\n",
      "         -3.5785e-02, -6.4266e-02],\n",
      "        [-4.6399e-02,  2.2853e-02,  3.0489e-02,  ...,  3.6848e-02,\n",
      "          6.9362e-02,  2.3431e-02],\n",
      "        [-3.1696e-02,  1.5885e-04,  1.2145e-02,  ..., -2.5044e-02,\n",
      "          3.2436e-03, -5.6370e-02]], requires_grad=True)\n",
      "Parameter containing:\n",
      "tensor([ 0.0597, -0.0586, -0.0385,  0.0306,  0.0633,  0.0694, -0.0414, -0.0646,\n",
      "         0.0224,  0.0242], requires_grad=True)\n"
     ]
    }
   ],
   "source": [
    "import torch\n",
    "\n",
    "class TinyModel(torch.nn.Module):\n",
    "    \n",
    "    def __init__(self):\n",
    "        super(TinyModel, self).__init__()\n",
    "        \n",
    "        self.linear1 = torch.nn.Linear(100, 200)\n",
    "        self.activation = torch.nn.ReLU()\n",
    "        self.linear2 = torch.nn.Linear(200, 10)\n",
    "        self.softmax = torch.nn.Softmax()\n",
    "    \n",
    "    def forward(self, x):\n",
    "        x = self.linear1(x)\n",
    "        x = self.activation(x)\n",
    "        x = self.linear2(x)\n",
    "        x = self.softmax(x)\n",
    "        return x\n",
    "\n",
    "tinymodel = TinyModel()\n",
    "\n",
    "print('The model:')\n",
    "print(tinymodel)\n",
    "\n",
    "print('\\n\\nJust one layer:')\n",
    "print(tinymodel.linear2)\n",
    "\n",
    "print('\\n\\nModel params:')\n",
    "for param in tinymodel.parameters():\n",
    "    print(param)\n",
    "\n",
    "print('\\n\\nLayer params:')\n",
    "for param in tinymodel.linear2.parameters():\n",
    "    print(param)"
   ]
  },
  {
   "cell_type": "markdown",
   "metadata": {},
   "source": [
    "This shows the fundamental structure of a PyTorch model: there is an `__init__()` method that defines the layers and other components of a model, and a `forward()` method where the computation gets done. Note that we can print the model, or any of its submodules, to learn about its structure.\n",
    "\n",
    "## Common Layer Types\n",
    "\n",
    "### Linear Layers\n",
    "\n",
    "The most basic type of neural network layer is a *linear* or *fully connected* layer. This is a layer where every input influences every output of the layer to a degree specified by the layer's weights. If a model has *m* inputs and *n* outputs, the weights will be an *m * n* matrix. For example:"
   ]
  },
  {
   "cell_type": "code",
   "execution_count": 2,
   "metadata": {},
   "outputs": [
    {
     "name": "stdout",
     "output_type": "stream",
     "text": [
      "Input:\n",
      "tensor([[0.9038, 0.3422, 0.9429]])\n",
      "\n",
      "\n",
      "Weight and Bias parameters:\n",
      "Parameter containing:\n",
      "tensor([[-0.4552,  0.0429, -0.3682],\n",
      "        [ 0.3114, -0.0532, -0.1722]], requires_grad=True)\n",
      "Parameter containing:\n",
      "tensor([ 0.0435, -0.3449], requires_grad=True)\n",
      "\n",
      "\n",
      "Output:\n",
      "tensor([[-0.7004, -0.2440]], grad_fn=<AddmmBackward>)\n"
     ]
    }
   ],
   "source": [
    "lin = torch.nn.Linear(3, 2)\n",
    "x = torch.rand(1, 3)\n",
    "print('Input:')\n",
    "print(x)\n",
    "\n",
    "print('\\n\\nWeight and Bias parameters:')\n",
    "for param in lin.parameters():\n",
    "    print(param)\n",
    "\n",
    "y = lin(x)\n",
    "print('\\n\\nOutput:')\n",
    "print(y)"
   ]
  },
  {
   "cell_type": "markdown",
   "metadata": {},
   "source": [
    "If you do the matrix multiplication of `x` by the linear layer's weights, and add the biases, you'll find that you get the output vector `y`.\n",
    "\n",
    "One other important feature to note: When we checked the weights of our layer with `lin.weight`, it reported itself as a `Parameter` (which is a subclass of `Tensor`), and let us know that it's tracking gradients with autograd. This is a default behavior for `Parameter` that differs from `Tensor`.\n",
    "\n",
    "Linear layers are used widely in deep learning models. One of the most common places you'll see them is in classifier models, which will usually have one or more linear layers at the end, where the last layer will have *n* outputs, where *n* is the number of classes the classifier addresses.\n",
    "\n",
    "### Convolutional Layers\n",
    "\n",
    "*Convolutional* layers are built to handle data with a high degree of spatial correlation. They are very commonly used in computer vision, where they detect close groupings of features which the compose into higher-level features. They pop up in other contexts too - for example, in NLP applications, where the a word's immediate context (that is, the other words nearby in the sequence) can affect the meaning of a sentence.\n",
    "\n",
    "We saw convolutional layers in action in LeNet5 in an earlier video:"
   ]
  },
  {
   "cell_type": "code",
   "execution_count": 3,
   "metadata": {},
   "outputs": [],
   "source": [
    "import torch.functional as F\n",
    "\n",
    "\n",
    "class LeNet(torch.nn.Module):\n",
    "\n",
    "    def __init__(self):\n",
    "        super(LeNet, self).__init__()\n",
    "        # 1 input image channel (black & white), 6 output channels, 3x3 square convolution\n",
    "        # kernel\n",
    "        self.conv1 = torch.nn.Conv2d(1, 6, 5)\n",
    "        self.conv2 = torch.nn.Conv2d(6, 16, 3)\n",
    "        # an affine operation: y = Wx + b\n",
    "        self.fc1 = torch.nn.Linear(16 * 6 * 6, 120)  # 6*6 from image dimension\n",
    "        self.fc2 = torch.nn.Linear(120, 84)\n",
    "        self.fc3 = torch.nn.Linear(84, 10)\n",
    "\n",
    "    def forward(self, x):\n",
    "        # Max pooling over a (2, 2) window\n",
    "        x = F.max_pool2d(F.relu(self.conv1(x)), (2, 2))\n",
    "        # If the size is a square you can only specify a single number\n",
    "        x = F.max_pool2d(F.relu(self.conv2(x)), 2)\n",
    "        x = x.view(-1, self.num_flat_features(x))\n",
    "        x = F.relu(self.fc1(x))\n",
    "        x = F.relu(self.fc2(x))\n",
    "        x = self.fc3(x)\n",
    "        return x\n",
    "\n",
    "    def num_flat_features(self, x):\n",
    "        size = x.size()[1:]  # all dimensions except the batch dimension\n",
    "        num_features = 1\n",
    "        for s in size:\n",
    "            num_features *= s\n",
    "        return num_features"
   ]
  },
  {
   "cell_type": "markdown",
   "metadata": {},
   "source": [
    "Let's break down what's happening in the convolutional layers of this model. Starting with `conv1`:\n",
    "\n",
    "* LeNet5 is meant to take in a 1x32x32 black & white image. **The first argument to a convolutional layer's constructor is the number of input channels.** Here, it is 1. If we were building this model to look at 3-color channels, it would be 3.\n",
    "* A convolutional layer is like a window that scans over the image, looking for a pattern it recognizes. These patterns are called *features,* and one of the parameters of a convolutional layer is the number of features we would like it to learn. **This is the second argument to the constructor is the number of output features.** Here, we're asking our layer to learn 6 features.\n",
    "* Just above, I likened the convolutional layer to a window - but how big is the window? **The third argument is the window or *kernel* size.** Here, the \"5\" means we've chosen a 5x5 kernel. (If you want a kernel with height different from width, you can specify a tuple for this argument - e.g., `(3, 5)` to get a 3x5 convolution kernel.)\n",
    "\n",
    "The output of a convolutional layer is an *activation map* - a spatial representation of the presence of features in the input tensor. `conv1` will give us an output tensor of 6x28x28; 6 is the number of features, and 28 is the height and width of our map. (The 28 comes from the fact that when scanning a 5-pixel window over a 32-pixel row, there are only 28 valid positions.)\n",
    "\n",
    "We then pass the output of the convolution through a ReLU activation function (more on activation functions later), then through a max pooling layer. The max pooling layer takes features near each other in the activation map and groups them together. It does this by reducing the tensor, merging every 2x2 group of cells in the output into a single cell, and assigning that cell the maximum value of the 4 cells that went into it. This gives us a lower-resolution version of the activation map, with dimensions 6x14x14.\n",
    "\n",
    "Our next convolutional layer, `conv2`, expects 6 input channels (corresponding to the 6 features sought by the first layer), has 16 output channels, and a 3x3 kernel. It puts out a 16x12x12 activation map, which is again reduced by a max pooling layer to 16x6x6. Prior to passing this output to the linear layers, it is reshaped to a 16 * 6 * 6 = 576-element vector for consumption by the next layer.\n",
    "\n",
    "There are convolutional layers for addressing 1D, 2D, and 3D tensors. There are also many more optional arguments for a conv layer constructor, including stride length(e.g., only scanning every second or every third position) in the input, padding (so you can scan out to the edges of the input), and more. See the [documentation](https://pytorch.org/docs/stable/nn.html#convolution-layers) for more information.\n",
    "\n",
    "### Recurrent Layers\n",
    "\n",
    "*Recurrent neural networks* (or *RNNs)* are used for sequential data - anything from time-series measurements from a scientific instrument to natural language sentences to DNA nucleotides. An RNN does this by maintaining a *hidden state* that acts as a sort of memory for what it has seen in the sequence so far.\n",
    "\n",
    "The internal structure of an RNN layer - or its variants, the LSTM (long short-term memory) and GRU (gated recurrent unit) - is moderately complex and beyond the scope of this video, but we'll show you what one looks like in action with an LSTM-based part-of-speech tagger (a type of classifier that tells you if a word is a noun, verb, etc.):"
   ]
  },
  {
   "cell_type": "code",
   "execution_count": 4,
   "metadata": {},
   "outputs": [],
   "source": [
    "class LSTMTagger(torch.nn.Module):\n",
    "\n",
    "    def __init__(self, embedding_dim, hidden_dim, vocab_size, tagset_size):\n",
    "        super(LSTMTagger, self).__init__()\n",
    "        self.hidden_dim = hidden_dim\n",
    "\n",
    "        self.word_embeddings = torch.nn.Embedding(vocab_size, embedding_dim)\n",
    "\n",
    "        # The LSTM takes word embeddings as inputs, and outputs hidden states\n",
    "        # with dimensionality hidden_dim.\n",
    "        self.lstm = torch.nn.LSTM(embedding_dim, hidden_dim)\n",
    "\n",
    "        # The linear layer that maps from hidden state space to tag space\n",
    "        self.hidden2tag = torch.nn.Linear(hidden_dim, tagset_size)\n",
    "\n",
    "    def forward(self, sentence):\n",
    "        embeds = self.word_embeddings(sentence)\n",
    "        lstm_out, _ = self.lstm(embeds.view(len(sentence), 1, -1))\n",
    "        tag_space = self.hidden2tag(lstm_out.view(len(sentence), -1))\n",
    "        tag_scores = F.log_softmax(tag_space, dim=1)\n",
    "        return tag_scores"
   ]
  },
  {
   "cell_type": "markdown",
   "metadata": {},
   "source": [
    "The constructor has four arguments:\n",
    "\n",
    "* `vocab_size` is the number of words in the input vocabulary. Each word is a one-hot vector (or unit vector) in a `vocab_size`-dimensional space.\n",
    "* `tagset_size` is the number of tags in the output set.\n",
    "* `embedding_dim` is the size of the *embedding* space for the vocabulary. An embedding maps a vocabulary onto a low-dimensional space, where words with similar meanings are close together in the space.\n",
    "* `hidden_dim` is the size of the LSTM's memory.\n",
    "\n",
    "The input will be a sentence with the words represented as indices of of one-hot vectors. The embedding layer will then map these down to an `embedding_dim`-dimensional space. The LSTM takes this sequence of embeddings and iterates over it, fielding an output vector of length `hidden_dim`. The final linear layer acts as a classifier; applying `log_softmax()` to the output of the final layer converts the output into a normalized set of estimated probabilities that a given word maps to a given tag.\n",
    "\n",
    "If you'd like to see this network in action, check out the [Sequence Models and LSTM Networks](https://pytorch.org/tutorials/beginner/nlp/sequence_models_tutorial.html) tutorial on pytorch.org.\n",
    "\n",
    "### Transformers\n",
    "\n",
    "*Transformers* are multi-purpose networks that have taken over the state of the art in NLP with models like BERT. A discussion of transformer architecture is beyond the scope of this video, but PyTorch has a `Transformer` class that allows you to define the overall parameters of a transformer model - the number of attention heads, the number of encoder & decoder layers, dropout and activation functions, etc. (You can even build the BERT model from this single class, with the right parameters!) The `torch.nn.Transformer` class also has classes to encapsulate the individual components (`TransformerEncoder`, `TransformerDecoder`) and subcomponents (`TransformerEncoderLayer`, `TransformerDecoderLayer`). For details, check out the [documentation](https://pytorch.org/docs/stable/nn.html#transformer) on transformer classes, and the relevant [tutorial](https://pytorch.org/tutorials/beginner/transformer_tutorial.html) on pytorch.org.\n",
    "\n",
    "## Other Layers and Functions\n",
    "\n",
    "### Data Manipulation Layers\n",
    "\n",
    "There are other layer types that perform important functions in models, but don't participate in the learning process themselves.\n",
    "\n",
    "**Max pooling** (and its twin, min pooling) reduce a tensor by combining cells, and assigning the maximum value of the input cells to the output cell. (We saw this ) For example:"
   ]
  },
  {
   "cell_type": "code",
   "execution_count": 5,
   "metadata": {},
   "outputs": [
    {
     "name": "stdout",
     "output_type": "stream",
     "text": [
      "tensor([[[0.0981, 0.0700, 0.4727, 0.5558, 0.0772, 0.2102],\n",
      "         [0.3376, 0.5892, 0.3710, 0.6459, 0.8318, 0.4010],\n",
      "         [0.9203, 0.3997, 0.1416, 0.6560, 0.9604, 0.2960],\n",
      "         [0.4386, 0.9271, 0.2422, 0.4040, 0.5174, 0.8446],\n",
      "         [0.4052, 0.6758, 0.0939, 0.8521, 0.1873, 0.0848],\n",
      "         [0.9011, 0.5034, 0.6045, 0.9524, 0.4864, 0.1636]]])\n",
      "tensor([[[0.9203, 0.9604],\n",
      "         [0.9271, 0.9524]]])\n"
     ]
    }
   ],
   "source": [
    "my_tensor = torch.rand(1, 6, 6)\n",
    "print(my_tensor)\n",
    "\n",
    "maxpool_layer = torch.nn.MaxPool2d(3)\n",
    "print(maxpool_layer(my_tensor))"
   ]
  },
  {
   "cell_type": "markdown",
   "metadata": {},
   "source": [
    "If you look closely at the values above, you'll see that each of the values in the maxpooled output is the maximum value of each quadrant of the 6x6 input.\n",
    "\n",
    "**Normalization layers** re-center and normalize the output of one layer before feeding it to another. Centering the and scaling the intermediate tensors has a number of beneficial effects, such as letting you use higher learning rates without exploding/vanishing gradients."
   ]
  },
  {
   "cell_type": "code",
   "execution_count": 6,
   "metadata": {},
   "outputs": [
    {
     "name": "stdout",
     "output_type": "stream",
     "text": [
      "tensor([[[17.9300,  6.6554, 15.4615, 24.5178],\n",
      "         [12.2631, 17.8186, 10.7215, 11.3705],\n",
      "         [ 9.2377,  8.4226, 21.8175, 22.7177],\n",
      "         [18.6170, 19.6376, 12.9835, 10.4569]]])\n",
      "tensor(15.0393)\n",
      "tensor([[[ 0.2795, -1.4823, -0.1062,  1.3090],\n",
      "         [-0.2776,  1.6989, -0.8261, -0.5952],\n",
      "         [-0.9374, -1.0585,  0.9311,  1.0648],\n",
      "         [ 0.8345,  1.1011, -0.6377, -1.2979]]],\n",
      "       grad_fn=<NativeBatchNormBackward>)\n",
      "tensor(2.2352e-08, grad_fn=<MeanBackward0>)\n"
     ]
    }
   ],
   "source": [
    "my_tensor = torch.rand(1, 4, 4) * 20 + 5\n",
    "print(my_tensor)\n",
    "\n",
    "print(my_tensor.mean())\n",
    "\n",
    "norm_layer = torch.nn.BatchNorm1d(4)\n",
    "normed_tensor = norm_layer(my_tensor)\n",
    "print(normed_tensor)\n",
    "\n",
    "print(normed_tensor.mean())\n"
   ]
  },
  {
   "cell_type": "markdown",
   "metadata": {},
   "source": [
    "Running the cell above, we've added a large scaling factor and offset to an input tensor; you should see the input tensor's `mean()` somewhere in the neighborhood of 15. After running it through the normalization layer, you can see that the values are smaller, and grouped around zero - in fact, the mean should be very small (> 1e-8).\n",
    "\n",
    "This is beneficial because many activation functions (discussed below) have their strongest gradients near 0, but sometimes suffer from vanishing or exploding gradients for inputs that drive them far away from zero. Keeping the data centered around the area of steepest gradient will tend to mean faster, better learning and higher feasible learning rates.\n",
    "\n",
    "**Dropout layers** are a tool for encouraging *sparse representations* in your model - that is, pushing it to do inference with less data.\n",
    "\n",
    "Dropout layers work by randomly setting parts of the input tensor *during training* - dropout layers are always turned off for inference. This forces the model to learn against this masked or reduced dataset. For example:"
   ]
  },
  {
   "cell_type": "code",
   "execution_count": 7,
   "metadata": {},
   "outputs": [
    {
     "name": "stdout",
     "output_type": "stream",
     "text": [
      "tensor([[[0.8831, 0.0000, 0.2492, 0.3492],\n",
      "         [0.3590, 1.0386, 0.0000, 1.2894],\n",
      "         [0.0000, 0.3633, 0.0000, 1.3429],\n",
      "         [0.9839, 0.0000, 0.9430, 1.1437]]])\n",
      "tensor([[[0.8831, 0.0000, 0.0000, 0.3492],\n",
      "         [0.0000, 1.0386, 0.6842, 1.2894],\n",
      "         [0.4623, 0.0000, 0.2170, 0.0000],\n",
      "         [0.9839, 0.0000, 0.0000, 1.1437]]])\n"
     ]
    }
   ],
   "source": [
    "my_tensor = torch.rand(1, 4, 4)\n",
    "\n",
    "dropout = torch.nn.Dropout(p=0.4)\n",
    "print(dropout(my_tensor))\n",
    "print(dropout(my_tensor))"
   ]
  },
  {
   "cell_type": "markdown",
   "metadata": {},
   "source": [
    "Above, you can see the effect of dropout on a sample tensor. You can use the optional `p` argument to set the probability of an individual weight dropping out; if you don't it defaults to 0.5.\n",
    "\n",
    "### Activation Functions\n",
    "\n",
    "Activation functions make deep learning possible. A neural network is really a program - with many parameters - that *simulates a mathematical function*. If all we did was multiple tensors by layer weights repeatedly, we could only simulate *linear functions;* further, there would be no point to having many layers, as the whole network would reduce could be reduced to a single matrix multiplication. Inserting *non-linear* activation functions between layers is what allows a deep learning model to simulate any function, rather than just linear ones.\n",
    "\n",
    "`torch.nn.Module` has objects encapsulating all of the major activation functions including ReLU and its many variants, Tanh, Hardtanh, sigmoid, and more. It also includes other functions, such as Softmax, that are most useful at the output stage of a model.\n",
    "\n",
    "### Loss Functions\n",
    "\n",
    "Loss functions tell us how far a model's prediction is from the correct answer. PyTorch contains a variety of loss functions, including common MSE (mean squared error = L2 norm), Cross Entropy Loss and Negative Likelihood Loss (useful for classifiers), and others."
   ]
  },
  {
   "cell_type": "markdown",
   "metadata": {},
   "source": [
    "## Advanced: Replacing Layers"
   ]
  },
  {
   "cell_type": "code",
   "execution_count": null,
   "metadata": {},
   "outputs": [],
   "source": []
  }
 ],
 "metadata": {
  "kernelspec": {
   "display_name": "Python 3",
   "language": "python",
   "name": "python3"
  },
  "language_info": {
   "codemirror_mode": {
    "name": "ipython",
    "version": 3
   },
   "file_extension": ".py",
   "mimetype": "text/x-python",
   "name": "python",
   "nbconvert_exporter": "python",
   "pygments_lexer": "ipython3",
   "version": "3.8.5"
  }
 },
 "nbformat": 4,
 "nbformat_minor": 4
}
