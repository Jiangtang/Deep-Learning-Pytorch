{
 "cells": [
  {
   "cell_type": "code",
   "execution_count": 25,
   "metadata": {},
   "outputs": [],
   "source": [
    "import torch\n",
    "import torch.nn.functional as F\n",
    "import torchtext\n",
    "import time\n",
    "import random\n",
    "import pandas as pd\n",
    "\n",
    "torch.backends.cudnn.deterministic = True"
   ]
  },
  {
   "cell_type": "code",
   "execution_count": 26,
   "metadata": {},
   "outputs": [],
   "source": [
    "RANDOM_SEED = 123\n",
    "torch.manual_seed(RANDOM_SEED)\n",
    "\n",
    "VOCABULARY_SIZE = 20000\n",
    "LEARNING_RATE = 0.005\n",
    "BATCH_SIZE = 128\n",
    "NUM_EPOCHS = 15\n",
    "DEVICE = torch.device('cuda:0' if torch.cuda.is_available() else 'cpu')\n",
    "\n",
    "EMBEDDING_DIM = 128\n",
    "HIDDEN_DIM = 256\n",
    "NUM_CLASSES = 2"
   ]
  },
  {
   "cell_type": "code",
   "execution_count": null,
   "metadata": {},
   "outputs": [],
   "source": []
  },
  {
   "cell_type": "code",
   "execution_count": null,
   "metadata": {},
   "outputs": [],
   "source": []
  },
  {
   "cell_type": "code",
   "execution_count": 27,
   "metadata": {},
   "outputs": [
    {
     "data": {
      "text/html": [
       "<div>\n",
       "<style scoped>\n",
       "    .dataframe tbody tr th:only-of-type {\n",
       "        vertical-align: middle;\n",
       "    }\n",
       "\n",
       "    .dataframe tbody tr th {\n",
       "        vertical-align: top;\n",
       "    }\n",
       "\n",
       "    .dataframe thead th {\n",
       "        text-align: right;\n",
       "    }\n",
       "</style>\n",
       "<table border=\"1\" class=\"dataframe\">\n",
       "  <thead>\n",
       "    <tr style=\"text-align: right;\">\n",
       "      <th></th>\n",
       "      <th>TEXT_COLUMN_NAME</th>\n",
       "      <th>LABEL_COLUMN_NAME</th>\n",
       "    </tr>\n",
       "  </thead>\n",
       "  <tbody>\n",
       "    <tr>\n",
       "      <th>0</th>\n",
       "      <td>In 1974, the teenager Martha Moxley (Maggie Gr...</td>\n",
       "      <td>1</td>\n",
       "    </tr>\n",
       "    <tr>\n",
       "      <th>1</th>\n",
       "      <td>OK... so... I really like Kris Kristofferson a...</td>\n",
       "      <td>0</td>\n",
       "    </tr>\n",
       "    <tr>\n",
       "      <th>2</th>\n",
       "      <td>***SPOILER*** Do not read this, if you think a...</td>\n",
       "      <td>0</td>\n",
       "    </tr>\n",
       "    <tr>\n",
       "      <th>3</th>\n",
       "      <td>hi for all the people who have seen this wonde...</td>\n",
       "      <td>1</td>\n",
       "    </tr>\n",
       "    <tr>\n",
       "      <th>4</th>\n",
       "      <td>I recently bought the DVD, forgetting just how...</td>\n",
       "      <td>0</td>\n",
       "    </tr>\n",
       "  </tbody>\n",
       "</table>\n",
       "</div>"
      ],
      "text/plain": [
       "                                    TEXT_COLUMN_NAME  LABEL_COLUMN_NAME\n",
       "0  In 1974, the teenager Martha Moxley (Maggie Gr...                  1\n",
       "1  OK... so... I really like Kris Kristofferson a...                  0\n",
       "2  ***SPOILER*** Do not read this, if you think a...                  0\n",
       "3  hi for all the people who have seen this wonde...                  1\n",
       "4  I recently bought the DVD, forgetting just how...                  0"
      ]
     },
     "execution_count": 27,
     "metadata": {},
     "output_type": "execute_result"
    }
   ],
   "source": [
    "df = pd.read_csv('movie_data.csv')\n",
    "df.head()"
   ]
  },
  {
   "cell_type": "code",
   "execution_count": 28,
   "metadata": {},
   "outputs": [
    {
     "data": {
      "text/html": [
       "<div>\n",
       "<style scoped>\n",
       "    .dataframe tbody tr th:only-of-type {\n",
       "        vertical-align: middle;\n",
       "    }\n",
       "\n",
       "    .dataframe tbody tr th {\n",
       "        vertical-align: top;\n",
       "    }\n",
       "\n",
       "    .dataframe thead th {\n",
       "        text-align: right;\n",
       "    }\n",
       "</style>\n",
       "<table border=\"1\" class=\"dataframe\">\n",
       "  <thead>\n",
       "    <tr style=\"text-align: right;\">\n",
       "      <th></th>\n",
       "      <th>TEXT_COLUMN_NAME</th>\n",
       "      <th>LABEL_COLUMN_NAME</th>\n",
       "    </tr>\n",
       "  </thead>\n",
       "  <tbody>\n",
       "    <tr>\n",
       "      <th>0</th>\n",
       "      <td>In 1974, the teenager Martha Moxley (Maggie Gr...</td>\n",
       "      <td>1</td>\n",
       "    </tr>\n",
       "    <tr>\n",
       "      <th>1</th>\n",
       "      <td>OK... so... I really like Kris Kristofferson a...</td>\n",
       "      <td>0</td>\n",
       "    </tr>\n",
       "    <tr>\n",
       "      <th>2</th>\n",
       "      <td>***SPOILER*** Do not read this, if you think a...</td>\n",
       "      <td>0</td>\n",
       "    </tr>\n",
       "    <tr>\n",
       "      <th>3</th>\n",
       "      <td>hi for all the people who have seen this wonde...</td>\n",
       "      <td>1</td>\n",
       "    </tr>\n",
       "    <tr>\n",
       "      <th>4</th>\n",
       "      <td>I recently bought the DVD, forgetting just how...</td>\n",
       "      <td>0</td>\n",
       "    </tr>\n",
       "  </tbody>\n",
       "</table>\n",
       "</div>"
      ],
      "text/plain": [
       "                                    TEXT_COLUMN_NAME  LABEL_COLUMN_NAME\n",
       "0  In 1974, the teenager Martha Moxley (Maggie Gr...                  1\n",
       "1  OK... so... I really like Kris Kristofferson a...                  0\n",
       "2  ***SPOILER*** Do not read this, if you think a...                  0\n",
       "3  hi for all the people who have seen this wonde...                  1\n",
       "4  I recently bought the DVD, forgetting just how...                  0"
      ]
     },
     "execution_count": 28,
     "metadata": {},
     "output_type": "execute_result"
    }
   ],
   "source": [
    "df.columns = ['TEXT_COLUMN_NAME', 'LABEL_COLUMN_NAME'] \n",
    "df.to_csv('movie_data.csv', index=None) \n",
    "df = pd.read_csv('movie_data.csv') \n",
    "df.head()"
   ]
  },
  {
   "cell_type": "code",
   "execution_count": 29,
   "metadata": {},
   "outputs": [],
   "source": [
    "del df"
   ]
  },
  {
   "cell_type": "code",
   "execution_count": 30,
   "metadata": {},
   "outputs": [],
   "source": [
    "### Defining the feature processing\n",
    "\n",
    "TEXT = torchtext.legacy.data.Field(\n",
    "    tokenize='spacy', # default splits on whitespace\n",
    "    tokenizer_language='en_core_web_sm'\n",
    ")\n",
    "\n",
    "### Defining the label processing\n",
    "\n",
    "LABEL = torchtext.legacy.data.LabelField(dtype=torch.long)"
   ]
  },
  {
   "cell_type": "code",
   "execution_count": 31,
   "metadata": {},
   "outputs": [],
   "source": [
    "fields = [('TEXT_COLUMN_NAME', TEXT), ('LABEL_COLUMN_NAME', LABEL)]\n",
    "\n",
    "dataset = torchtext.legacy.data.TabularDataset(\n",
    "    path='movie_data.csv', format='csv',\n",
    "    skip_header=True, fields=fields)"
   ]
  },
  {
   "cell_type": "code",
   "execution_count": 32,
   "metadata": {},
   "outputs": [
    {
     "name": "stdout",
     "output_type": "stream",
     "text": [
      "Num Train: 40000\n",
      "Num Test: 10000\n"
     ]
    }
   ],
   "source": [
    "train_data, test_data = dataset.split(\n",
    "    split_ratio=[0.8, 0.2],\n",
    "    random_state=random.seed(RANDOM_SEED))\n",
    "\n",
    "print(f'Num Train: {len(train_data)}')\n",
    "print(f'Num Test: {len(test_data)}')"
   ]
  },
  {
   "cell_type": "code",
   "execution_count": 33,
   "metadata": {},
   "outputs": [
    {
     "name": "stdout",
     "output_type": "stream",
     "text": [
      "Num Train: 34000\n",
      "Num Validation: 6000\n"
     ]
    }
   ],
   "source": [
    "train_data, valid_data = train_data.split(\n",
    "    split_ratio=[0.85, 0.15],\n",
    "    random_state=random.seed(RANDOM_SEED))\n",
    "\n",
    "print(f'Num Train: {len(train_data)}')\n",
    "print(f'Num Validation: {len(valid_data)}')\n",
    "\n"
   ]
  },
  {
   "cell_type": "code",
   "execution_count": 34,
   "metadata": {},
   "outputs": [
    {
     "name": "stdout",
     "output_type": "stream",
     "text": [
      "{'TEXT_COLUMN_NAME': ['For', 'some', 'unknown', 'reason', ',', '7', 'years', 'ago', ',', 'I', 'watched', 'this', 'movie', 'with', 'my', 'mother', 'and', 'sister', '.', 'I', 'do', \"n't\", 'think', 'I', \"'ve\", 'ever', 'laughed', 'as', 'hard', 'with', 'them', 'before', '.', 'This', 'movie', 'was', 'sooooo', 'bad', '.', 'How', 'sequels', 'were', 'produced', 'is', 'beyond', 'me', '.', 'Its', 'been', 'awhile', 'since', 'I', 'last', 'saw', 'this', '\"', 'movie', '\"', ',', 'but', 'the', 'one', 'impression', 'that', 'it', 'has', 'stuck', 'with', 'me', 'over', 'the', 'years', 'has', 'been', ',', '\"', 'They', 'must', 'have', 'found', 'the', 'script', 'in', 'a', 'dumpster', 'in', 'the', 'backlot', 'of', 'a', 'cheap', 'movie', 'studio', ',', 'made', 'into', 'a', '\"', 'movie', '\"', ',', 'and', 'decided', 'that', 'it', 'did', \"n't\", 'suck', 'enough', ',', 'and', 'made', 'it', 'worse', '.', 'I', \"'m\", 'pretty', 'sure', 'that', 'they', 'spent', 'all', 'the', 'budget', 'on', 'camera', 'work', 'and', 'the', 'so', 'called', '\"', 'special', 'effects', '\"', ',', 'and', 'then', 'had', '13', 'cents', 'left', 'toward', 'the', 'script', 'AND', 'to', 'pay', 'the', '\"', 'actors', '\"', '.'], 'LABEL_COLUMN_NAME': '0'}\n"
     ]
    }
   ],
   "source": [
    "print(vars(train_data.examples[0]))"
   ]
  },
  {
   "cell_type": "code",
   "execution_count": 35,
   "metadata": {},
   "outputs": [
    {
     "name": "stdout",
     "output_type": "stream",
     "text": [
      "Vocabulary size: 20002\n",
      "Number of classes: 2\n"
     ]
    }
   ],
   "source": [
    "\n",
    "TEXT.build_vocab(train_data, max_size=VOCABULARY_SIZE)\n",
    "LABEL.build_vocab(train_data)\n",
    "\n",
    "print(f'Vocabulary size: {len(TEXT.vocab)}')\n",
    "print(f'Number of classes: {len(LABEL.vocab)}')"
   ]
  },
  {
   "cell_type": "code",
   "execution_count": 36,
   "metadata": {},
   "outputs": [],
   "source": [
    "train_loader, valid_loader, test_loader = \\\n",
    "    torchtext.legacy.data.BucketIterator.splits(\n",
    "        (train_data, valid_data, test_data),\n",
    "         batch_size=BATCH_SIZE,\n",
    "         sort_within_batch=False,\n",
    "         sort_key=lambda x: len(x.TEXT_COLUMN_NAME),\n",
    "         device=DEVICE\n",
    "    )"
   ]
  },
  {
   "cell_type": "code",
   "execution_count": 37,
   "metadata": {},
   "outputs": [
    {
     "name": "stdout",
     "output_type": "stream",
     "text": [
      "Train\n",
      "Text matrix size: torch.Size([1136, 128])\n",
      "Target vector size: torch.Size([128])\n",
      "\n",
      "Valid:\n",
      "Text matrix size: torch.Size([55, 128])\n",
      "Target vector size: torch.Size([128])\n",
      "\n",
      "Test:\n",
      "Text matrix size: torch.Size([52, 128])\n",
      "Target vector size: torch.Size([128])\n"
     ]
    }
   ],
   "source": [
    "print('Train')\n",
    "for batch in train_loader:\n",
    "    print(f'Text matrix size: {batch.TEXT_COLUMN_NAME.size()}')\n",
    "    print(f'Target vector size: {batch.LABEL_COLUMN_NAME.size()}')\n",
    "    break\n",
    "    \n",
    "print('\\nValid:')\n",
    "for batch in valid_loader:\n",
    "    print(f'Text matrix size: {batch.TEXT_COLUMN_NAME.size()}')\n",
    "    print(f'Target vector size: {batch.LABEL_COLUMN_NAME.size()}')\n",
    "    break\n",
    "    \n",
    "print('\\nTest:')\n",
    "for batch in test_loader:\n",
    "    print(f'Text matrix size: {batch.TEXT_COLUMN_NAME.size()}')\n",
    "    print(f'Target vector size: {batch.LABEL_COLUMN_NAME.size()}')\n",
    "    break"
   ]
  },
  {
   "cell_type": "code",
   "execution_count": 38,
   "metadata": {},
   "outputs": [],
   "source": [
    "class RNN(torch.nn.Module):\n",
    "    \n",
    "    def __init__(self, input_dim, embedding_dim, hidden_dim, output_dim):\n",
    "        super().__init__()\n",
    "\n",
    "        self.embedding = torch.nn.Embedding(input_dim, embedding_dim)\n",
    "        #self.rnn = torch.nn.RNN(embedding_dim,\n",
    "        #                        hidden_dim,\n",
    "        #                        nonlinearity='relu')\n",
    "        self.rnn = torch.nn.LSTM(embedding_dim,\n",
    "                                 hidden_dim)        \n",
    "        \n",
    "        self.fc = torch.nn.Linear(hidden_dim, output_dim)\n",
    "        \n",
    "\n",
    "    def forward(self, text):\n",
    "        # text dim: [sentence length, batch size]\n",
    "        \n",
    "        embedded = self.embedding(text)\n",
    "        # embedded dim: [sentence length, batch size, embedding dim]\n",
    "        \n",
    "        output, (hidden, cell) = self.rnn(embedded)\n",
    "        # output dim: [sentence length, batch size, hidden dim]\n",
    "        # hidden dim: [1, batch size, hidden dim]\n",
    "\n",
    "        hidden.squeeze_(0)\n",
    "        # hidden dim: [batch size, hidden dim]\n",
    "        \n",
    "        output = self.fc(hidden)\n",
    "        return output"
   ]
  },
  {
   "cell_type": "code",
   "execution_count": 39,
   "metadata": {},
   "outputs": [],
   "source": [
    "torch.manual_seed(RANDOM_SEED)\n",
    "model = RNN(input_dim=len(TEXT.vocab),\n",
    "            embedding_dim=EMBEDDING_DIM,\n",
    "            hidden_dim=HIDDEN_DIM,\n",
    "            output_dim=NUM_CLASSES # could use 1 for binary classification\n",
    ")\n",
    "\n",
    "model = model.to(DEVICE)\n",
    "optimizer = torch.optim.Adam(model.parameters(), lr=0.005)"
   ]
  },
  {
   "cell_type": "code",
   "execution_count": 40,
   "metadata": {},
   "outputs": [],
   "source": [
    "def compute_accuracy(model, data_loader, device):\n",
    "\n",
    "    with torch.no_grad():\n",
    "\n",
    "        correct_pred, num_examples = 0, 0\n",
    "\n",
    "        for i, (features, targets) in enumerate(data_loader):\n",
    "\n",
    "            features = features.to(device)\n",
    "            targets = targets.float().to(device)\n",
    "\n",
    "            logits = model(features)\n",
    "            _, predicted_labels = torch.max(logits, 1)\n",
    "\n",
    "            num_examples += targets.size(0)\n",
    "            correct_pred += (predicted_labels == targets).sum()\n",
    "    return correct_pred.float()/num_examples * 100"
   ]
  },
  {
   "cell_type": "code",
   "execution_count": null,
   "metadata": {},
   "outputs": [
    {
     "name": "stdout",
     "output_type": "stream",
     "text": [
      "Epoch: 001/015 | Batch 000/266 | Loss: 0.7060\n",
      "Epoch: 001/015 | Batch 050/266 | Loss: 0.6915\n",
      "Epoch: 001/015 | Batch 100/266 | Loss: 0.6959\n",
      "Epoch: 001/015 | Batch 150/266 | Loss: 0.6940\n",
      "Epoch: 001/015 | Batch 200/266 | Loss: 0.7001\n",
      "Epoch: 001/015 | Batch 250/266 | Loss: 0.6879\n",
      "training accuracy: 50.09%\n",
      "valid accuracy: 49.27%\n",
      "Time elapsed: 243.50 min\n",
      "Epoch: 002/015 | Batch 000/266 | Loss: 0.6922\n"
     ]
    }
   ],
   "source": [
    "start_time = time.time()\n",
    "\n",
    "for epoch in range(NUM_EPOCHS):\n",
    "    model.train()\n",
    "    for batch_idx, batch_data in enumerate(train_loader):\n",
    "        \n",
    "        text = batch_data.TEXT_COLUMN_NAME.to(DEVICE)\n",
    "        labels = batch_data.LABEL_COLUMN_NAME.to(DEVICE)\n",
    "\n",
    "        ### FORWARD AND BACK PROP\n",
    "        logits = model(text)\n",
    "        loss = F.cross_entropy(logits, labels)\n",
    "        optimizer.zero_grad()\n",
    "        \n",
    "        loss.backward()\n",
    "        \n",
    "        ### UPDATE MODEL PARAMETERS\n",
    "        optimizer.step()\n",
    "        \n",
    "        ### LOGGING\n",
    "        if not batch_idx % 50:\n",
    "            print (f'Epoch: {epoch+1:03d}/{NUM_EPOCHS:03d} | '\n",
    "                   f'Batch {batch_idx:03d}/{len(train_loader):03d} | '\n",
    "                   f'Loss: {loss:.4f}')\n",
    "\n",
    "    with torch.set_grad_enabled(False):\n",
    "        print(f'training accuracy: '\n",
    "              f'{compute_accuracy(model, train_loader, DEVICE):.2f}%'\n",
    "              f'\\nvalid accuracy: '\n",
    "              f'{compute_accuracy(model, valid_loader, DEVICE):.2f}%')\n",
    "        \n",
    "    print(f'Time elapsed: {(time.time() - start_time)/60:.2f} min')\n",
    "    \n",
    "print(f'Total Training Time: {(time.time() - start_time)/60:.2f} min')\n",
    "print(f'Test accuracy: {compute_accuracy(model, test_loader, DEVICE):.2f}%')"
   ]
  },
  {
   "cell_type": "code",
   "execution_count": null,
   "metadata": {},
   "outputs": [],
   "source": []
  },
  {
   "cell_type": "code",
   "execution_count": 42,
   "metadata": {},
   "outputs": [],
   "source": [
    "\n",
    "import requests\n",
    "from bs4 import BeautifulSoup\n",
    "import re\n",
    "import os\n",
    "import unicodedata\n",
    "import string\n",
    "import importlib\n",
    "import spacy\n",
    "from nltk.stem.snowball import SnowballStemmer"
   ]
  },
  {
   "cell_type": "code",
   "execution_count": 44,
   "metadata": {},
   "outputs": [
    {
     "data": {
      "text/plain": [
       "'C:\\\\Users\\\\jhu\\\\Anaconda3\\\\envs\\\\torch'"
      ]
     },
     "execution_count": 44,
     "metadata": {},
     "output_type": "execute_result"
    }
   ],
   "source": [
    "import sys\n",
    "sys.prefix"
   ]
  },
  {
   "cell_type": "code",
   "execution_count": 45,
   "metadata": {},
   "outputs": [
    {
     "name": "stdout",
     "output_type": "stream",
     "text": [
      "[<ol class=\"recipe-steps\">\n",
      "<li>Place the chicken, celery, carrots, onions, parsnip (if using), parsley, peppercorns, bay leaves and salt in a large soup pot and cover with cold water by 1 inch.</li>\n",
      "<li>Bring to a boil over high heat, then immediately reduce the heat to very low. Adjust the heat until the soup is “smiling”: barely moving on the surface, with an occasional bubble breaking through. Cook uncovered, until the chicken is very tender and falling off the bone, 1 to 1 1/2 hours.</li>\n",
      "<li>When cool enough to handle, use tongs to transfer chicken from the pot to a container. Taste the broth and continue to simmer it until it is concentrated and tasty. Strain broth through a fine sieve (or a colander lined with cheesecloth) into a separate container. Discard all the solids from the strainer (or reserve the vegetables, chill and serve with vinaigrette, if you wish).</li>\n",
      "<li>Refrigerate chicken pieces and broth separately for at least 8 hours (or up to 3 days), until a thick layer of yellow fat has risen to the top of the broth.</li>\n",
      "<li>When ready to finish the soup, use your fingers to separate chicken breast meat from bones and skin. Discard bones and skin. Use two forks to pull the breast meat apart into soft chunks, or use a knife and cut into bite-size pieces. (Reserve dark meat for another use.)</li>\n",
      "<li>Skim chicken fat from top of broth and set aside. Place 3 tablespoons of the fat in a soup pot with a lid. Add leeks, stir to coat, and heat over medium heat until leeks begin to fry. Then reduce the heat to a gentle sizzle and cook, stirring often, until slightly softened, about 3 minutes.</li>\n",
      "<li>Add carrots, sprinkle with salt, stir, and cover the pot. Cook until vegetables are just tender, about 5 minutes more. (Keep in mind that vegetables will continue to cook in the soup.) Do not brown.</li>\n",
      "<li>Pour broth into pot with vegetables and heat to a simmer. Add noodles and simmer until heated through, soft and plumped with chicken broth. Add the breast meat, then taste broth and add salt and pepper to taste. For best flavor, soup should have some golden droplets of fat on top; if needed, add more chicken fat one teaspoon at a time.</li>\n",
      "<li>Serve immediately, in a tureen or from the pot, sprinkling each serving with herbs.</li>\n",
      "</ol>]\n"
     ]
    }
   ],
   "source": [
    "page = requests.get('https://cooking.nytimes.com/recipes/1018442-chicken-soup-from-scratch')\n",
    "soup = BeautifulSoup(page.content, 'html.parser')\n",
    "steps = soup.findAll(\"ol\", {\"class\": \"recipe-steps\"})\n",
    "\n",
    "print(steps)"
   ]
  },
  {
   "cell_type": "code",
   "execution_count": 46,
   "metadata": {},
   "outputs": [
    {
     "name": "stdout",
     "output_type": "stream",
     "text": [
      "Place the chicken, celery, carrots, onions, parsnip (if using), parsley, peppercorns, bay leaves and salt in a large soup pot and cover with cold water by 1 inch. Bring to a boil over high heat, then immediately reduce the heat to very low. Adjust the heat until the soup is “smiling”: barely moving on the surface, with an occasional bubble breaking through. Cook uncovered, until the chicken is very tender and falling off the bone, 1 to 1 1/2 hours. When cool enough to handle, use tongs to transfer chicken from the pot to a container. Taste the broth and continue to simmer it until it is concentrated and tasty. Strain broth through a fine sieve (or a colander lined with cheesecloth) into a separate container. Discard all the solids from the strainer (or reserve the vegetables, chill and serve with vinaigrette, if you wish). Refrigerate chicken pieces and broth separately for at least 8 hours (or up to 3 days), until a thick layer of yellow fat has risen to the top of the broth. When ready to finish the soup, use your fingers to separate chicken breast meat from bones and skin. Discard bones and skin. Use two forks to pull the breast meat apart into soft chunks, or use a knife and cut into bite-size pieces. (Reserve dark meat for another use.) Skim chicken fat from top of broth and set aside. Place 3 tablespoons of the fat in a soup pot with a lid. Add leeks, stir to coat, and heat over medium heat until leeks begin to fry. Then reduce the heat to a gentle sizzle and cook, stirring often, until slightly softened, about 3 minutes. Add carrots, sprinkle with salt, stir, and cover the pot. Cook until vegetables are just tender, about 5 minutes more. (Keep in mind that vegetables will continue to cook in the soup.) Do not brown. Pour broth into pot with vegetables and heat to a simmer. Add noodles and simmer until heated through, soft and plumped with chicken broth. Add the breast meat, then taste broth and add salt and pepper to taste. For best flavor, soup should have some golden droplets of fat on top; if needed, add more chicken fat one teaspoon at a time. Serve immediately, in a tureen or from the pot, sprinkling each serving with herbs.\n"
     ]
    }
   ],
   "source": [
    "def cleanhtml(raw_html):\n",
    "    \"\"\"Function to clean up the html tags in data.\"\"\"\n",
    "    cleanr = re.compile('<.*?>')\n",
    "    # Remove html tags\n",
    "    cleantext = re.sub(cleanr, '', raw_html)\n",
    "    cleantext = cleantext.replace('\\n', ' ').rstrip().strip()\n",
    "    return cleantext\n",
    "\n",
    "cleansteps = cleanhtml(str(steps[0]))\n",
    "print(cleansteps)"
   ]
  },
  {
   "cell_type": "code",
   "execution_count": 48,
   "metadata": {},
   "outputs": [],
   "source": [
    "with open(os.path.join('', 'sample_data.txt'), 'w') as fptr:\n",
    "    fptr.write(cleansteps)"
   ]
  },
  {
   "cell_type": "code",
   "execution_count": 51,
   "metadata": {},
   "outputs": [
    {
     "name": "stdout",
     "output_type": "stream",
     "text": [
      "Checklist successfully written to file ETHICS.md.\n"
     ]
    }
   ],
   "source": [
    "\n",
    "! deon -o ETHICS.md"
   ]
  },
  {
   "cell_type": "code",
   "execution_count": 52,
   "metadata": {},
   "outputs": [
    {
     "name": "stdout",
     "output_type": "stream",
     "text": [
      "Place the chicken, celery, carrots, onions, parsnip (if using), parsley, peppercorns, bay leaves and salt in a large soup pot and cover with cold water by 1 inch. Bring to a boil over high heat, then immediately reduce the heat to very low. Adjust the heat until the soup is “smiling”: barely moving on the surface, with an occasional bubble breaking through. Cook uncovered, until the chicken is very tender and falling off the bone, 1 to 1 1/2 hours. When cool enough to handle, use tongs to transfer chicken from the pot to a container. Taste the broth and continue to simmer it until it is concentrated and tasty. Strain broth through a fine sieve (or a colander lined with cheesecloth) into a separate container. Discard all the solids from the strainer (or reserve the vegetables, chill and serve with vinaigrette, if you wish). Refrigerate chicken pieces and broth separately for at least 8 hours (or up to 3 days), until a thick layer of yellow fat has risen to the top of the broth. When ready to finish the soup, use your fingers to separate chicken breast meat from bones and skin. Discard bones and skin. Use two forks to pull the breast meat apart into soft chunks, or use a knife and cut into bite-size pieces. (Reserve dark meat for another use.) Skim chicken fat from top of broth and set aside. Place 3 tablespoons of the fat in a soup pot with a lid. Add leeks, stir to coat, and heat over medium heat until leeks begin to fry. Then reduce the heat to a gentle sizzle and cook, stirring often, until slightly softened, about 3 minutes. Add carrots, sprinkle with salt, stir, and cover the pot. Cook until vegetables are just tender, about 5 minutes more. (Keep in mind that vegetables will continue to cook in the soup.) Do not brown. Pour broth into pot with vegetables and heat to a simmer. Add noodles and simmer until heated through, soft and plumped with chicken broth. Add the breast meat, then taste broth and add salt and pepper to taste. For best flavor, soup should have some golden droplets of fat on top; if needed, add more chicken fat one teaspoon at a time. Serve immediately, in a tureen or from the pot, sprinkling each serving with herbs.\n"
     ]
    }
   ],
   "source": [
    "\n",
    "# Read our data back in\n",
    "with open(os.path.join('', 'sample_data.txt'), 'r') as fptr:\n",
    "    article = fptr.read()\n",
    "print(article)"
   ]
  },
  {
   "cell_type": "code",
   "execution_count": 54,
   "metadata": {},
   "outputs": [],
   "source": [
    "\n",
    "spacy_nlp = spacy.load('en_core_web_sm')"
   ]
  },
  {
   "cell_type": "code",
   "execution_count": 55,
   "metadata": {},
   "outputs": [
    {
     "name": "stdout",
     "output_type": "stream",
     "text": [
      "['Place', 'the', 'chicken', ',', 'celery', ',', 'carrots', ',', 'onions', ',', 'parsnip', '(', 'if', 'using', ')', ',', 'parsley', ',', 'peppercorns', ',', 'bay', 'leaves', 'and', 'salt', 'in', 'a', 'large', 'soup', 'pot', 'and', 'cover', 'with', 'cold', 'water', 'by', '1', 'inch', '.', 'Bring', 'to', 'a', 'boil', 'over', 'high', 'heat', ',', 'then', 'immediately', 'reduce', 'the', 'heat', 'to', 'very', 'low', '.', 'Adjust', 'the', 'heat', 'until', 'the', 'soup', 'is', '“', 'smiling', '”', ':', 'barely', 'moving', 'on', 'the', 'surface', ',', 'with', 'an', 'occasional', 'bubble', 'breaking', 'through', '.', 'Cook', 'uncovered', ',', 'until', 'the', 'chicken', 'is', 'very', 'tender', 'and', 'falling', 'off', 'the', 'bone', ',', '1', 'to', '1', '1/2', 'hours', '.', 'When', 'cool', 'enough', 'to', 'handle', ',', 'use', 'tongs', 'to', 'transfer', 'chicken', 'from', 'the', 'pot', 'to', 'a', 'container', '.', 'Taste', 'the', 'broth', 'and', 'continue', 'to', 'simmer', 'it', 'until', 'it', 'is', 'concentrated', 'and', 'tasty', '.', 'Strain', 'broth', 'through', 'a', 'fine', 'sieve', '(', 'or', 'a', 'colander', 'lined', 'with', 'cheesecloth', ')', 'into', 'a', 'separate', 'container', '.', 'Discard', 'all', 'the', 'solids', 'from', 'the', 'strainer', '(', 'or', 'reserve', 'the', 'vegetables', ',', 'chill', 'and', 'serve', 'with', 'vinaigrette', ',', 'if', 'you', 'wish', ')', '.', 'Refrigerate', 'chicken', 'pieces', 'and', 'broth', 'separately', 'for', 'at', 'least', '8', 'hours', '(', 'or', 'up', 'to', '3', 'days', ')', ',', 'until', 'a', 'thick', 'layer', 'of', 'yellow', 'fat', 'has', 'risen', 'to', 'the', 'top', 'of', 'the', 'broth', '.', 'When', 'ready', 'to', 'finish', 'the', 'soup', ',', 'use', 'your', 'fingers', 'to', 'separate', 'chicken', 'breast', 'meat', 'from', 'bones', 'and', 'skin', '.', 'Discard', 'bones', 'and', 'skin', '.', 'Use', 'two', 'forks', 'to', 'pull', 'the', 'breast', 'meat', 'apart', 'into', 'soft', 'chunks', ',', 'or', 'use', 'a', 'knife', 'and', 'cut', 'into', 'bite', '-', 'size', 'pieces', '.', '(', 'Reserve', 'dark', 'meat', 'for', 'another', 'use', '.', ')', 'Skim', 'chicken', 'fat', 'from', 'top', 'of', 'broth', 'and', 'set', 'aside', '.', 'Place', '3', 'tablespoons', 'of', 'the', 'fat', 'in', 'a', 'soup', 'pot', 'with', 'a', 'lid', '.', 'Add', 'leeks', ',', 'stir', 'to', 'coat', ',', 'and', 'heat', 'over', 'medium', 'heat', 'until', 'leeks', 'begin', 'to', 'fry', '.', 'Then', 'reduce', 'the', 'heat', 'to', 'a', 'gentle', 'sizzle', 'and', 'cook', ',', 'stirring', 'often', ',', 'until', 'slightly', 'softened', ',', 'about', '3', 'minutes', '.', 'Add', 'carrots', ',', 'sprinkle', 'with', 'salt', ',', 'stir', ',', 'and', 'cover', 'the', 'pot', '.', 'Cook', 'until', 'vegetables', 'are', 'just', 'tender', ',', 'about', '5', 'minutes', 'more', '.', '(', 'Keep', 'in', 'mind', 'that', 'vegetables', 'will', 'continue', 'to', 'cook', 'in', 'the', 'soup', '.', ')', 'Do', 'not', 'brown', '.', 'Pour', 'broth', 'into', 'pot', 'with', 'vegetables', 'and', 'heat', 'to', 'a', 'simmer', '.', 'Add', 'noodles', 'and', 'simmer', 'until', 'heated', 'through', ',', 'soft', 'and', 'plumped', 'with', 'chicken', 'broth', '.', 'Add', 'the', 'breast', 'meat', ',', 'then', 'taste', 'broth', 'and', 'add', 'salt', 'and', 'pepper', 'to', 'taste', '.', 'For', 'best', 'flavor', ',', 'soup', 'should', 'have', 'some', 'golden', 'droplets', 'of', 'fat', 'on', 'top', ';', 'if', 'needed', ',', 'add', 'more', 'chicken', 'fat', 'one', 'teaspoon', 'at', 'a', 'time', '.', 'Serve', 'immediately', ',', 'in', 'a', 'tureen', 'or', 'from', 'the', 'pot', ',', 'sprinkling', 'each', 'serving', 'with', 'herbs', '.']\n"
     ]
    }
   ],
   "source": [
    "doc = spacy_nlp(article)\n",
    "tokens = [token.text for token in doc]\n",
    "print(tokens)"
   ]
  },
  {
   "cell_type": "code",
   "execution_count": 58,
   "metadata": {},
   "outputs": [
    {
     "name": "stdout",
     "output_type": "stream",
     "text": [
      "Place\n",
      "the\n",
      "chicken\n",
      ",\n",
      "celery\n",
      ",\n",
      "carrots\n",
      ",\n",
      "onions\n",
      ",\n",
      "parsnip\n",
      "(\n",
      "if\n",
      "using\n",
      ")\n",
      ",\n",
      "parsley\n",
      ",\n",
      "peppercorns\n",
      ",\n",
      "bay\n",
      "leaves\n",
      "and\n",
      "salt\n",
      "in\n",
      "a\n",
      "large\n",
      "soup\n",
      "pot\n",
      "and\n",
      "cover\n",
      "with\n",
      "cold\n",
      "water\n",
      "by\n",
      "1\n",
      "inch\n",
      ".\n",
      "Bring\n",
      "to\n",
      "a\n",
      "boil\n",
      "over\n",
      "high\n",
      "heat\n",
      ",\n",
      "then\n",
      "immediately\n",
      "reduce\n",
      "the\n",
      "heat\n",
      "to\n",
      "very\n",
      "low\n",
      ".\n",
      "Adjust\n",
      "the\n",
      "heat\n",
      "until\n",
      "the\n",
      "soup\n",
      "is\n",
      "“\n",
      "smiling\n",
      "”\n",
      ":\n",
      "barely\n",
      "moving\n",
      "on\n",
      "the\n",
      "surface\n",
      ",\n",
      "with\n",
      "an\n",
      "occasional\n",
      "bubble\n",
      "breaking\n",
      "through\n",
      ".\n",
      "Cook\n",
      "uncovered\n",
      ",\n",
      "until\n",
      "the\n",
      "chicken\n",
      "is\n",
      "very\n",
      "tender\n",
      "and\n",
      "falling\n",
      "off\n",
      "the\n",
      "bone\n",
      ",\n",
      "1\n",
      "to\n",
      "1\n",
      "1/2\n",
      "hours\n",
      ".\n",
      "When\n",
      "cool\n",
      "enough\n",
      "to\n",
      "handle\n",
      ",\n",
      "use\n",
      "tongs\n",
      "to\n",
      "transfer\n",
      "chicken\n",
      "from\n",
      "the\n",
      "pot\n",
      "to\n",
      "a\n",
      "container\n",
      ".\n",
      "Taste\n",
      "the\n",
      "broth\n",
      "and\n",
      "continue\n",
      "to\n",
      "simmer\n",
      "it\n",
      "until\n",
      "it\n",
      "is\n",
      "concentrated\n",
      "and\n",
      "tasty\n",
      ".\n",
      "Strain\n",
      "broth\n",
      "through\n",
      "a\n",
      "fine\n",
      "sieve\n",
      "(\n",
      "or\n",
      "a\n",
      "colander\n",
      "lined\n",
      "with\n",
      "cheesecloth\n",
      ")\n",
      "into\n",
      "a\n",
      "separate\n",
      "container\n",
      ".\n",
      "Discard\n",
      "all\n",
      "the\n",
      "solids\n",
      "from\n",
      "the\n",
      "strainer\n",
      "(\n",
      "or\n",
      "reserve\n",
      "the\n",
      "vegetables\n",
      ",\n",
      "chill\n",
      "and\n",
      "serve\n",
      "with\n",
      "vinaigrette\n",
      ",\n",
      "if\n",
      "you\n",
      "wish\n",
      ")\n",
      ".\n",
      "Refrigerate\n",
      "chicken\n",
      "pieces\n",
      "and\n",
      "broth\n",
      "separately\n",
      "for\n",
      "at\n",
      "least\n",
      "8\n",
      "hours\n",
      "(\n",
      "or\n",
      "up\n",
      "to\n",
      "3\n",
      "days\n",
      ")\n",
      ",\n",
      "until\n",
      "a\n",
      "thick\n",
      "layer\n",
      "of\n",
      "yellow\n",
      "fat\n",
      "has\n",
      "risen\n",
      "to\n",
      "the\n",
      "top\n",
      "of\n",
      "the\n",
      "broth\n",
      ".\n",
      "When\n",
      "ready\n",
      "to\n",
      "finish\n",
      "the\n",
      "soup\n",
      ",\n",
      "use\n",
      "your\n",
      "fingers\n",
      "to\n",
      "separate\n",
      "chicken\n",
      "breast\n",
      "meat\n",
      "from\n",
      "bones\n",
      "and\n",
      "skin\n",
      ".\n",
      "Discard\n",
      "bones\n",
      "and\n",
      "skin\n",
      ".\n",
      "Use\n",
      "two\n",
      "forks\n",
      "to\n",
      "pull\n",
      "the\n",
      "breast\n",
      "meat\n",
      "apart\n",
      "into\n",
      "soft\n",
      "chunks\n",
      ",\n",
      "or\n",
      "use\n",
      "a\n",
      "knife\n",
      "and\n",
      "cut\n",
      "into\n",
      "bite\n",
      "-\n",
      "size\n",
      "pieces\n",
      ".\n",
      "(\n",
      "Reserve\n",
      "dark\n",
      "meat\n",
      "for\n",
      "another\n",
      "use\n",
      ".\n",
      ")\n",
      "Skim\n",
      "chicken\n",
      "fat\n",
      "from\n",
      "top\n",
      "of\n",
      "broth\n",
      "and\n",
      "set\n",
      "aside\n",
      ".\n",
      "Place\n",
      "3\n",
      "tablespoons\n",
      "of\n",
      "the\n",
      "fat\n",
      "in\n",
      "a\n",
      "soup\n",
      "pot\n",
      "with\n",
      "a\n",
      "lid\n",
      ".\n",
      "Add\n",
      "leeks\n",
      ",\n",
      "stir\n",
      "to\n",
      "coat\n",
      ",\n",
      "and\n",
      "heat\n",
      "over\n",
      "medium\n",
      "heat\n",
      "until\n",
      "leeks\n",
      "begin\n",
      "to\n",
      "fry\n",
      ".\n",
      "Then\n",
      "reduce\n",
      "the\n",
      "heat\n",
      "to\n",
      "a\n",
      "gentle\n",
      "sizzle\n",
      "and\n",
      "cook\n",
      ",\n",
      "stirring\n",
      "often\n",
      ",\n",
      "until\n",
      "slightly\n",
      "softened\n",
      ",\n",
      "about\n",
      "3\n",
      "minutes\n",
      ".\n",
      "Add\n",
      "carrots\n",
      ",\n",
      "sprinkle\n",
      "with\n",
      "salt\n",
      ",\n",
      "stir\n",
      ",\n",
      "and\n",
      "cover\n",
      "the\n",
      "pot\n",
      ".\n",
      "Cook\n",
      "until\n",
      "vegetables\n",
      "are\n",
      "just\n",
      "tender\n",
      ",\n",
      "about\n",
      "5\n",
      "minutes\n",
      "more\n",
      ".\n",
      "(\n",
      "Keep\n",
      "in\n",
      "mind\n",
      "that\n",
      "vegetables\n",
      "will\n",
      "continue\n",
      "to\n",
      "cook\n",
      "in\n",
      "the\n",
      "soup\n",
      ".\n",
      ")\n",
      "Do\n",
      "not\n",
      "brown\n",
      ".\n",
      "Pour\n",
      "broth\n",
      "into\n",
      "pot\n",
      "with\n",
      "vegetables\n",
      "and\n",
      "heat\n",
      "to\n",
      "a\n",
      "simmer\n",
      ".\n",
      "Add\n",
      "noodles\n",
      "and\n",
      "simmer\n",
      "until\n",
      "heated\n",
      "through\n",
      ",\n",
      "soft\n",
      "and\n",
      "plumped\n",
      "with\n",
      "chicken\n",
      "broth\n",
      ".\n",
      "Add\n",
      "the\n",
      "breast\n",
      "meat\n",
      ",\n",
      "then\n",
      "taste\n",
      "broth\n",
      "and\n",
      "add\n",
      "salt\n",
      "and\n",
      "pepper\n",
      "to\n",
      "taste\n",
      ".\n",
      "For\n",
      "best\n",
      "flavor\n",
      ",\n",
      "soup\n",
      "should\n",
      "have\n",
      "some\n",
      "golden\n",
      "droplets\n",
      "of\n",
      "fat\n",
      "on\n",
      "top\n",
      ";\n",
      "if\n",
      "needed\n",
      ",\n",
      "add\n",
      "more\n",
      "chicken\n",
      "fat\n",
      "one\n",
      "teaspoon\n",
      "at\n",
      "a\n",
      "time\n",
      ".\n",
      "Serve\n",
      "immediately\n",
      ",\n",
      "in\n",
      "a\n",
      "tureen\n",
      "or\n",
      "from\n",
      "the\n",
      "pot\n",
      ",\n",
      "sprinkling\n",
      "each\n",
      "serving\n",
      "with\n",
      "herbs\n",
      ".\n"
     ]
    }
   ],
   "source": [
    "for token in doc:\n",
    "    print(token.text)"
   ]
  },
  {
   "cell_type": "code",
   "execution_count": 59,
   "metadata": {},
   "outputs": [],
   "source": [
    "all_letters_numbers = string.ascii_letters + \" .,;'\" + \"0123456789\"\n",
    "n_letters = len(all_letters_numbers)\n",
    "\n",
    "# Turn a Unicode string to plain ASCII, thanks to https://stackoverflow.com/a/518232/2809427\n",
    "def unicode_to_ascii(s):\n",
    "    return ''.join(\n",
    "        c for c in unicodedata.normalize('NFD', s)\n",
    "        if unicodedata.category(c) != 'Mn'\n",
    "        and c in all_letters_numbers\n",
    "    )"
   ]
  },
  {
   "cell_type": "code",
   "execution_count": 60,
   "metadata": {},
   "outputs": [
    {
     "name": "stdout",
     "output_type": "stream",
     "text": [
      "Place the chicken, celery, carrots, onions, parsnip if using, parsley, peppercorns, bay leaves and salt in a large soup pot and cover with cold water by 1 inch. Bring to a boil over high heat, then immediately reduce the heat to very low. Adjust the heat until the soup is smiling barely moving on the surface, with an occasional bubble breaking through. Cook uncovered, until the chicken is very tender and falling off the bone, 1 to 1 12 hours. When cool enough to handle, use tongs to transfer chicken from the pot to a container. Taste the broth and continue to simmer it until it is concentrated and tasty. Strain broth through a fine sieve or a colander lined with cheesecloth into a separate container. Discard all the solids from the strainer or reserve the vegetables, chill and serve with vinaigrette, if you wish. Refrigerate chicken pieces and broth separately for at least 8 hours or up to 3 days, until a thick layer of yellow fat has risen to the top of the broth. When ready to finish the soup, use your fingers to separate chicken breast meat from bones and skin. Discard bones and skin. Use two forks to pull the breast meat apart into soft chunks, or use a knife and cut into bitesize pieces. Reserve dark meat for another use. Skim chicken fat from top of broth and set aside. Place 3 tablespoons of the fat in a soup pot with a lid. Add leeks, stir to coat, and heat over medium heat until leeks begin to fry. Then reduce the heat to a gentle sizzle and cook, stirring often, until slightly softened, about 3 minutes. Add carrots, sprinkle with salt, stir, and cover the pot. Cook until vegetables are just tender, about 5 minutes more. Keep in mind that vegetables will continue to cook in the soup. Do not brown. Pour broth into pot with vegetables and heat to a simmer. Add noodles and simmer until heated through, soft and plumped with chicken broth. Add the breast meat, then taste broth and add salt and pepper to taste. For best flavor, soup should have some golden droplets of fat on top; if needed, add more chicken fat one teaspoon at a time. Serve immediately, in a tureen or from the pot, sprinkling each serving with herbs.\n"
     ]
    }
   ],
   "source": [
    "ascii_article = unicode_to_ascii(article)\n",
    "print(ascii_article)"
   ]
  },
  {
   "cell_type": "code",
   "execution_count": 61,
   "metadata": {},
   "outputs": [
    {
     "name": "stdout",
     "output_type": "stream",
     "text": [
      "['place', 'the', 'chicken', ',', 'celery', ',', 'carrot', ',', 'onion', ',', 'parsnip', '(', 'if', 'use', ')', ',', 'parsley', ',', 'peppercorns', ',', 'bay', 'leave', 'and', 'salt', 'in', 'a', 'large', 'soup', 'pot', 'and', 'cover', 'with', 'cold', 'water', 'by', '1', 'inch', '.', 'bring', 'to', 'a', 'boil', 'over', 'high', 'heat', ',', 'then', 'immediately', 'reduce', 'the', 'heat', 'to', 'very', 'low', '.', 'adjust', 'the', 'heat', 'until', 'the', 'soup', 'be', '\"', 'smile', '\"', ':', 'barely', 'move', 'on', 'the', 'surface', ',', 'with', 'an', 'occasional', 'bubble', 'break', 'through', '.', 'Cook', 'uncover', ',', 'until', 'the', 'chicken', 'be', 'very', 'tender', 'and', 'fall', 'off', 'the', 'bone', ',', '1', 'to', '1', '1/2', 'hour', '.', 'when', 'cool', 'enough', 'to', 'handle', ',', 'use', 'tong', 'to', 'transfer', 'chicken', 'from', 'the', 'pot', 'to', 'a', 'container', '.', 'taste', 'the', 'broth', 'and', 'continue', 'to', 'simmer', 'it', 'until', 'it', 'be', 'concentrated', 'and', 'tasty', '.', 'strain', 'broth', 'through', 'a', 'fine', 'sieve', '(', 'or', 'a', 'colander', 'line', 'with', 'cheesecloth', ')', 'into', 'a', 'separate', 'container', '.', 'discard', 'all', 'the', 'solid', 'from', 'the', 'strainer', '(', 'or', 'reserve', 'the', 'vegetable', ',', 'chill', 'and', 'serve', 'with', 'vinaigrette', ',', 'if', 'you', 'wish', ')', '.', 'refrigerate', 'chicken', 'piece', 'and', 'broth', 'separately', 'for', 'at', 'least', '8', 'hour', '(', 'or', 'up', 'to', '3', 'day', ')', ',', 'until', 'a', 'thick', 'layer', 'of', 'yellow', 'fat', 'have', 'rise', 'to', 'the', 'top', 'of', 'the', 'broth', '.', 'when', 'ready', 'to', 'finish', 'the', 'soup', ',', 'use', 'your', 'finger', 'to', 'separate', 'chicken', 'breast', 'meat', 'from', 'bone', 'and', 'skin', '.', 'discard', 'bone', 'and', 'skin', '.', 'use', 'two', 'fork', 'to', 'pull', 'the', 'breast', 'meat', 'apart', 'into', 'soft', 'chunk', ',', 'or', 'use', 'a', 'knife', 'and', 'cut', 'into', 'bite', '-', 'size', 'piece', '.', '(', 'Reserve', 'dark', 'meat', 'for', 'another', 'use', '.', ')', 'Skim', 'chicken', 'fat', 'from', 'top', 'of', 'broth', 'and', 'set', 'aside', '.', 'place', '3', 'tablespoon', 'of', 'the', 'fat', 'in', 'a', 'soup', 'pot', 'with', 'a', 'lid', '.', 'add', 'leek', ',', 'stir', 'to', 'coat', ',', 'and', 'heat', 'over', 'medium', 'heat', 'until', 'leek', 'begin', 'to', 'fry', '.', 'then', 'reduce', 'the', 'heat', 'to', 'a', 'gentle', 'sizzle', 'and', 'cook', ',', 'stir', 'often', ',', 'until', 'slightly', 'soften', ',', 'about', '3', 'minute', '.', 'add', 'carrot', ',', 'sprinkle', 'with', 'salt', ',', 'stir', ',', 'and', 'cover', 'the', 'pot', '.', 'cook', 'until', 'vegetable', 'be', 'just', 'tender', ',', 'about', '5', 'minute', 'more', '.', '(', 'keep', 'in', 'mind', 'that', 'vegetable', 'will', 'continue', 'to', 'cook', 'in', 'the', 'soup', '.', ')', 'do', 'not', 'brown', '.', 'pour', 'broth', 'into', 'pot', 'with', 'vegetable', 'and', 'heat', 'to', 'a', 'simmer', '.', 'add', 'noodle', 'and', 'simmer', 'until', 'heat', 'through', ',', 'soft', 'and', 'plump', 'with', 'chicken', 'broth', '.', 'add', 'the', 'breast', 'meat', ',', 'then', 'taste', 'broth', 'and', 'add', 'salt', 'and', 'pepper', 'to', 'taste', '.', 'for', 'good', 'flavor', ',', 'soup', 'should', 'have', 'some', 'golden', 'droplet', 'of', 'fat', 'on', 'top', ';', 'if', 'need', ',', 'add', 'more', 'chicken', 'fat', 'one', 'teaspoon', 'at', 'a', 'time', '.', 'serve', 'immediately', ',', 'in', 'a', 'tureen', 'or', 'from', 'the', 'pot', ',', 'sprinkle', 'each', 'serve', 'with', 'herb', '.']\n"
     ]
    }
   ],
   "source": [
    "\n",
    "# Lemmatize unless it's a special case, e.g. '-PRON-' replacing 'it'\n",
    "lemmatized_tokens = [token.lemma_ if '-' not in token.lemma_ else token.text for token in doc]\n",
    "print(lemmatized_tokens)"
   ]
  },
  {
   "cell_type": "code",
   "execution_count": 62,
   "metadata": {},
   "outputs": [
    {
     "name": "stdout",
     "output_type": "stream",
     "text": [
      "['place', 'the', 'chicken', ',', 'celery', ',', 'carrot', ',', 'onion', ',', 'parsnip', '(', 'if', 'use', ')', ',', 'parsley', ',', 'peppercorns', ',', 'bay', 'leave', 'and', 'salt', 'in', 'a', 'large', 'soup', 'pot', 'and', 'cover', 'with', 'cold', 'water', 'by', '1', 'inch', '.', 'bring', 'to', 'a', 'boil', 'over', 'high', 'heat', ',', 'then', 'immediately', 'reduce', 'the', 'heat', 'to', 'very', 'low', '.', 'adjust', 'the', 'heat', 'until', 'the', 'soup', 'be', '\"', 'smile', '\"', ':', 'barely', 'move', 'on', 'the', 'surface', ',', 'with', 'an', 'occasional', 'bubble', 'break', 'through', '.', 'Cook', 'uncover', ',', 'until', 'the', 'chicken', 'be', 'very', 'tender', 'and', 'fall', 'off', 'the', 'bone', ',', '1', 'to', '1', '1/2', 'hour', '.', 'when', 'cool', 'enough', 'to', 'handle', ',', 'use', 'tong', 'to', 'transfer', 'chicken', 'from', 'the', 'pot', 'to', 'a', 'container', '.', 'taste', 'the', 'broth', 'and', 'continue', 'to', 'simmer', '-PRON-', 'until', '-PRON-', 'be', 'concentrated', 'and', 'tasty', '.', 'strain', 'broth', 'through', 'a', 'fine', 'sieve', '(', 'or', 'a', 'colander', 'line', 'with', 'cheesecloth', ')', 'into', 'a', 'separate', 'container', '.', 'discard', 'all', 'the', 'solid', 'from', 'the', 'strainer', '(', 'or', 'reserve', 'the', 'vegetable', ',', 'chill', 'and', 'serve', 'with', 'vinaigrette', ',', 'if', '-PRON-', 'wish', ')', '.', 'refrigerate', 'chicken', 'piece', 'and', 'broth', 'separately', 'for', 'at', 'least', '8', 'hour', '(', 'or', 'up', 'to', '3', 'day', ')', ',', 'until', 'a', 'thick', 'layer', 'of', 'yellow', 'fat', 'have', 'rise', 'to', 'the', 'top', 'of', 'the', 'broth', '.', 'when', 'ready', 'to', 'finish', 'the', 'soup', ',', 'use', '-PRON-', 'finger', 'to', 'separate', 'chicken', 'breast', 'meat', 'from', 'bone', 'and', 'skin', '.', 'discard', 'bone', 'and', 'skin', '.', 'use', 'two', 'fork', 'to', 'pull', 'the', 'breast', 'meat', 'apart', 'into', 'soft', 'chunk', ',', 'or', 'use', 'a', 'knife', 'and', 'cut', 'into', 'bite', '-', 'size', 'piece', '.', '(', 'Reserve', 'dark', 'meat', 'for', 'another', 'use', '.', ')', 'Skim', 'chicken', 'fat', 'from', 'top', 'of', 'broth', 'and', 'set', 'aside', '.', 'place', '3', 'tablespoon', 'of', 'the', 'fat', 'in', 'a', 'soup', 'pot', 'with', 'a', 'lid', '.', 'add', 'leek', ',', 'stir', 'to', 'coat', ',', 'and', 'heat', 'over', 'medium', 'heat', 'until', 'leek', 'begin', 'to', 'fry', '.', 'then', 'reduce', 'the', 'heat', 'to', 'a', 'gentle', 'sizzle', 'and', 'cook', ',', 'stir', 'often', ',', 'until', 'slightly', 'soften', ',', 'about', '3', 'minute', '.', 'add', 'carrot', ',', 'sprinkle', 'with', 'salt', ',', 'stir', ',', 'and', 'cover', 'the', 'pot', '.', 'cook', 'until', 'vegetable', 'be', 'just', 'tender', ',', 'about', '5', 'minute', 'more', '.', '(', 'keep', 'in', 'mind', 'that', 'vegetable', 'will', 'continue', 'to', 'cook', 'in', 'the', 'soup', '.', ')', 'do', 'not', 'brown', '.', 'pour', 'broth', 'into', 'pot', 'with', 'vegetable', 'and', 'heat', 'to', 'a', 'simmer', '.', 'add', 'noodle', 'and', 'simmer', 'until', 'heat', 'through', ',', 'soft', 'and', 'plump', 'with', 'chicken', 'broth', '.', 'add', 'the', 'breast', 'meat', ',', 'then', 'taste', 'broth', 'and', 'add', 'salt', 'and', 'pepper', 'to', 'taste', '.', 'for', 'good', 'flavor', ',', 'soup', 'should', 'have', 'some', 'golden', 'droplet', 'of', 'fat', 'on', 'top', ';', 'if', 'need', ',', 'add', 'more', 'chicken', 'fat', 'one', 'teaspoon', 'at', 'a', 'time', '.', 'serve', 'immediately', ',', 'in', 'a', 'tureen', 'or', 'from', 'the', 'pot', ',', 'sprinkle', 'each', 'serve', 'with', 'herb', '.']\n"
     ]
    }
   ],
   "source": [
    "print([token.lemma_ for token in doc])"
   ]
  },
  {
   "cell_type": "code",
   "execution_count": 63,
   "metadata": {},
   "outputs": [
    {
     "name": "stdout",
     "output_type": "stream",
     "text": [
      "['Place', 'chicken', ',', 'celery', ',', 'carrots', ',', 'onions', ',', 'parsnip', '(', ')', ',', 'parsley', ',', 'peppercorns', ',', 'bay', 'leaves', 'salt', 'large', 'soup', 'pot', 'cover', 'cold', 'water', '1', 'inch', '.', 'Bring', 'boil', 'high', 'heat', ',', 'immediately', 'reduce', 'heat', 'low', '.', 'Adjust', 'heat', 'soup', '“', 'smiling', '”', ':', 'barely', 'moving', 'surface', ',', 'occasional', 'bubble', 'breaking', '.', 'Cook', 'uncovered', ',', 'chicken', 'tender', 'falling', 'bone', ',', '1', '1', '1/2', 'hours', '.', 'cool', 'handle', ',', 'use', 'tongs', 'transfer', 'chicken', 'pot', 'container', '.', 'Taste', 'broth', 'continue', 'simmer', 'concentrated', 'tasty', '.', 'Strain', 'broth', 'fine', 'sieve', '(', 'colander', 'lined', 'cheesecloth', ')', 'separate', 'container', '.', 'Discard', 'solids', 'strainer', '(', 'reserve', 'vegetables', ',', 'chill', 'serve', 'vinaigrette', ',', 'wish', ')', '.', 'Refrigerate', 'chicken', 'pieces', 'broth', 'separately', '8', 'hours', '(', '3', 'days', ')', ',', 'thick', 'layer', 'yellow', 'fat', 'risen', 'broth', '.', 'ready', 'finish', 'soup', ',', 'use', 'fingers', 'separate', 'chicken', 'breast', 'meat', 'bones', 'skin', '.', 'Discard', 'bones', 'skin', '.', 'Use', 'forks', 'pull', 'breast', 'meat', 'apart', 'soft', 'chunks', ',', 'use', 'knife', 'cut', 'bite', '-', 'size', 'pieces', '.', '(', 'Reserve', 'dark', 'meat', 'use', '.', ')', 'Skim', 'chicken', 'fat', 'broth', 'set', 'aside', '.', 'Place', '3', 'tablespoons', 'fat', 'soup', 'pot', 'lid', '.', 'Add', 'leeks', ',', 'stir', 'coat', ',', 'heat', 'medium', 'heat', 'leeks', 'begin', 'fry', '.', 'reduce', 'heat', 'gentle', 'sizzle', 'cook', ',', 'stirring', ',', 'slightly', 'softened', ',', '3', 'minutes', '.', 'Add', 'carrots', ',', 'sprinkle', 'salt', ',', 'stir', ',', 'cover', 'pot', '.', 'Cook', 'vegetables', 'tender', ',', '5', 'minutes', '.', '(', 'mind', 'vegetables', 'continue', 'cook', 'soup', '.', ')', 'brown', '.', 'Pour', 'broth', 'pot', 'vegetables', 'heat', 'simmer', '.', 'Add', 'noodles', 'simmer', 'heated', ',', 'soft', 'plumped', 'chicken', 'broth', '.', 'Add', 'breast', 'meat', ',', 'taste', 'broth', 'add', 'salt', 'pepper', 'taste', '.', 'best', 'flavor', ',', 'soup', 'golden', 'droplets', 'fat', ';', 'needed', ',', 'add', 'chicken', 'fat', 'teaspoon', 'time', '.', 'Serve', 'immediately', ',', 'tureen', 'pot', ',', 'sprinkling', 'serving', 'herbs', '.']\n"
     ]
    }
   ],
   "source": [
    "no_stop_words = [token.text for token in doc if not token.is_stop]\n",
    "print(no_stop_words)"
   ]
  },
  {
   "cell_type": "code",
   "execution_count": 64,
   "metadata": {},
   "outputs": [
    {
     "name": "stdout",
     "output_type": "stream",
     "text": [
      "['place', 'the', 'chicken', ',', 'celeri', ',', 'carrot', ',', 'onion', ',', 'parsnip', '(', 'if', 'use', ')', ',', 'parsley', ',', 'peppercorn', ',', 'bay', 'leav', 'and', 'salt', 'in', 'a', 'larg', 'soup', 'pot', 'and', 'cover', 'with', 'cold', 'water', 'by', '1', 'inch', '.', 'bring', 'to', 'a', 'boil', 'over', 'high', 'heat', ',', 'then', 'immedi', 'reduc', 'the', 'heat', 'to', 'veri', 'low', '.', 'adjust', 'the', 'heat', 'until', 'the', 'soup', 'is', '“', 'smile', '”', ':', 'bare', 'move', 'on', 'the', 'surfac', ',', 'with', 'an', 'occasion', 'bubbl', 'break', 'through', '.', 'cook', 'uncov', ',', 'until', 'the', 'chicken', 'is', 'veri', 'tender', 'and', 'fall', 'off', 'the', 'bone', ',', '1', 'to', '1', '1/2', 'hour', '.', 'when', 'cool', 'enough', 'to', 'handl', ',', 'use', 'tong', 'to', 'transfer', 'chicken', 'from', 'the', 'pot', 'to', 'a', 'contain', '.', 'tast', 'the', 'broth', 'and', 'continu', 'to', 'simmer', 'it', 'until', 'it', 'is', 'concentr', 'and', 'tasti', '.', 'strain', 'broth', 'through', 'a', 'fine', 'siev', '(', 'or', 'a', 'coland', 'line', 'with', 'cheesecloth', ')', 'into', 'a', 'separ', 'contain', '.', 'discard', 'all', 'the', 'solid', 'from', 'the', 'strainer', '(', 'or', 'reserv', 'the', 'veget', ',', 'chill', 'and', 'serv', 'with', 'vinaigrett', ',', 'if', 'you', 'wish', ')', '.', 'refriger', 'chicken', 'piec', 'and', 'broth', 'separ', 'for', 'at', 'least', '8', 'hour', '(', 'or', 'up', 'to', '3', 'day', ')', ',', 'until', 'a', 'thick', 'layer', 'of', 'yellow', 'fat', 'has', 'risen', 'to', 'the', 'top', 'of', 'the', 'broth', '.', 'when', 'readi', 'to', 'finish', 'the', 'soup', ',', 'use', 'your', 'finger', 'to', 'separ', 'chicken', 'breast', 'meat', 'from', 'bone', 'and', 'skin', '.', 'discard', 'bone', 'and', 'skin', '.', 'use', 'two', 'fork', 'to', 'pull', 'the', 'breast', 'meat', 'apart', 'into', 'soft', 'chunk', ',', 'or', 'use', 'a', 'knife', 'and', 'cut', 'into', 'bite', '-', 'size', 'piec', '.', '(', 'reserv', 'dark', 'meat', 'for', 'anoth', 'use', '.', ')', 'skim', 'chicken', 'fat', 'from', 'top', 'of', 'broth', 'and', 'set', 'asid', '.', 'place', '3', 'tablespoon', 'of', 'the', 'fat', 'in', 'a', 'soup', 'pot', 'with', 'a', 'lid', '.', 'add', 'leek', ',', 'stir', 'to', 'coat', ',', 'and', 'heat', 'over', 'medium', 'heat', 'until', 'leek', 'begin', 'to', 'fri', '.', 'then', 'reduc', 'the', 'heat', 'to', 'a', 'gentl', 'sizzl', 'and', 'cook', ',', 'stir', 'often', ',', 'until', 'slight', 'soften', ',', 'about', '3', 'minut', '.', 'add', 'carrot', ',', 'sprinkl', 'with', 'salt', ',', 'stir', ',', 'and', 'cover', 'the', 'pot', '.', 'cook', 'until', 'veget', 'are', 'just', 'tender', ',', 'about', '5', 'minut', 'more', '.', '(', 'keep', 'in', 'mind', 'that', 'veget', 'will', 'continu', 'to', 'cook', 'in', 'the', 'soup', '.', ')', 'do', 'not', 'brown', '.', 'pour', 'broth', 'into', 'pot', 'with', 'veget', 'and', 'heat', 'to', 'a', 'simmer', '.', 'add', 'noodl', 'and', 'simmer', 'until', 'heat', 'through', ',', 'soft', 'and', 'plump', 'with', 'chicken', 'broth', '.', 'add', 'the', 'breast', 'meat', ',', 'then', 'tast', 'broth', 'and', 'add', 'salt', 'and', 'pepper', 'to', 'tast', '.', 'for', 'best', 'flavor', ',', 'soup', 'should', 'have', 'some', 'golden', 'droplet', 'of', 'fat', 'on', 'top', ';', 'if', 'need', ',', 'add', 'more', 'chicken', 'fat', 'one', 'teaspoon', 'at', 'a', 'time', '.', 'serv', 'immedi', ',', 'in', 'a', 'tureen', 'or', 'from', 'the', 'pot', ',', 'sprinkl', 'each', 'serv', 'with', 'herb', '.']\n"
     ]
    }
   ],
   "source": [
    "\n",
    "stemmer = SnowballStemmer(\"english\")\n",
    "stemmed_tokens = [stemmer.stem(token.text) for token in doc]\n",
    "print(stemmed_tokens)"
   ]
  },
  {
   "cell_type": "code",
   "execution_count": 65,
   "metadata": {},
   "outputs": [
    {
     "name": "stdout",
     "output_type": "stream",
     "text": [
      "Collecting sklearn-crfsuite\n",
      "  Downloading sklearn_crfsuite-0.3.6-py2.py3-none-any.whl (12 kB)\n",
      "Collecting python-crfsuite>=0.8.3\n",
      "  Downloading python_crfsuite-0.9.7-cp38-cp38-win_amd64.whl (156 kB)\n",
      "Collecting tabulate\n",
      "  Using cached tabulate-0.8.9-py3-none-any.whl (25 kB)\n",
      "Requirement already satisfied: six in c:\\users\\jhu\\anaconda3\\envs\\torch\\lib\\site-packages (from sklearn-crfsuite) (1.15.0)\n",
      "Requirement already satisfied: tqdm>=2.0 in c:\\users\\jhu\\anaconda3\\envs\\torch\\lib\\site-packages (from sklearn-crfsuite) (4.50.2)\n",
      "Installing collected packages: python-crfsuite, tabulate, sklearn-crfsuite\n",
      "Successfully installed python-crfsuite-0.9.7 sklearn-crfsuite-0.3.6 tabulate-0.8.9\n"
     ]
    }
   ],
   "source": []
  },
  {
   "cell_type": "code",
   "execution_count": null,
   "metadata": {},
   "outputs": [],
   "source": []
  }
 ],
 "metadata": {
  "kernelspec": {
   "display_name": "Python 3",
   "language": "python",
   "name": "python3"
  },
  "language_info": {
   "codemirror_mode": {
    "name": "ipython",
    "version": 3
   },
   "file_extension": ".py",
   "mimetype": "text/x-python",
   "name": "python",
   "nbconvert_exporter": "python",
   "pygments_lexer": "ipython3",
   "version": "3.8.5"
  }
 },
 "nbformat": 4,
 "nbformat_minor": 4
}
